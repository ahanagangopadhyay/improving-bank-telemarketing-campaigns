{
 "cells": [
  {
   "cell_type": "markdown",
   "metadata": {},
   "source": [
    "# Table of contents\n",
    "\n",
    "- [Import libraries](#import_libraries)\n",
    "- [Load processed dataset](#load_dataset)\n",
    "- [Split data into features and labels](#split_data)\n",
    "- [Baseline algorithms](#baseline_algorithms)\n",
    "- [Grid search and hyper-parameter tuning](#grid_search)\n",
    "    - [Logistic regression](#grid_logistic1)\n",
    "    - [XGBoost classifier](#grid_xgboost1)\n",
    "- [Synthetic Minority Oversampling (SMOTE)]\n",
    "- [Feature selection using Recursive Feature Elimination](#rfe)\n",
    "    - [Baseline algorithms]\n",
    "    - [Grid search and hyper-parameter tuning]\n",
    "    - [Synthetic Minority Oversampling (SMOTE)]"
   ]
  },
  {
   "cell_type": "markdown",
   "metadata": {},
   "source": [
    "# Import libraries <a name=\"import_libraries\"></a>"
   ]
  },
  {
   "cell_type": "code",
   "execution_count": 5,
   "metadata": {},
   "outputs": [],
   "source": [
    "import numpy as np\n",
    "import pandas as pd\n",
    "import matplotlib.pyplot as plt\n",
    "% matplotlib inline\n",
    "from sklearn.metrics import roc_auc_score, classification_report, roc_curve\n",
    "from sklearn.linear_model import LogisticRegression\n",
    "from sklearn.tree import DecisionTreeClassifier\n",
    "from sklearn.ensemble import GradientBoostingClassifier, RandomForestClassifier\n",
    "from xgboost import XGBClassifier \n",
    "from sklearn.svm import SVC\n",
    "from sklearn.neighbors import KNeighborsClassifier\n",
    "from sklearn.model_selection import KFold\n",
    "from sklearn.model_selection import cross_val_score\n",
    "from sklearn.feature_selection import RFE\n",
    "from sklearn.pipeline import Pipeline\n",
    "from sklearn.model_selection import RepeatedStratifiedKFold\n",
    "from sklearn.model_selection import cross_val_score\n",
    "from sklearn.model_selection import GridSearchCV"
   ]
  },
  {
   "cell_type": "markdown",
   "metadata": {},
   "source": [
    "# Load processed dataset <a name=\"load_dataset\"></a>"
   ]
  },
  {
   "cell_type": "code",
   "execution_count": 2,
   "metadata": {},
   "outputs": [
    {
     "data": {
      "text/html": [
       "<div>\n",
       "<style scoped>\n",
       "    .dataframe tbody tr th:only-of-type {\n",
       "        vertical-align: middle;\n",
       "    }\n",
       "\n",
       "    .dataframe tbody tr th {\n",
       "        vertical-align: top;\n",
       "    }\n",
       "\n",
       "    .dataframe thead th {\n",
       "        text-align: right;\n",
       "    }\n",
       "</style>\n",
       "<table border=\"1\" class=\"dataframe\">\n",
       "  <thead>\n",
       "    <tr style=\"text-align: right;\">\n",
       "      <th></th>\n",
       "      <th>age</th>\n",
       "      <th>month</th>\n",
       "      <th>day_of_week</th>\n",
       "      <th>campaign</th>\n",
       "      <th>emp.var.rate</th>\n",
       "      <th>cons.price.idx</th>\n",
       "      <th>cons.conf.idx</th>\n",
       "      <th>euribor3m</th>\n",
       "      <th>nr.employed</th>\n",
       "      <th>y</th>\n",
       "      <th>...</th>\n",
       "      <th>education_high.school</th>\n",
       "      <th>education_illiterate</th>\n",
       "      <th>education_professional.course</th>\n",
       "      <th>education_university.degree</th>\n",
       "      <th>default_yes</th>\n",
       "      <th>housing_yes</th>\n",
       "      <th>loan_yes</th>\n",
       "      <th>contact_telephone</th>\n",
       "      <th>poutcome_nonexistent</th>\n",
       "      <th>poutcome_success</th>\n",
       "    </tr>\n",
       "  </thead>\n",
       "  <tbody>\n",
       "    <tr>\n",
       "      <th>0</th>\n",
       "      <td>-1.146223</td>\n",
       "      <td>7</td>\n",
       "      <td>5</td>\n",
       "      <td>0.387151</td>\n",
       "      <td>0.845340</td>\n",
       "      <td>0.599402</td>\n",
       "      <td>-0.490205</td>\n",
       "      <td>0.772003</td>\n",
       "      <td>0.865709</td>\n",
       "      <td>-1</td>\n",
       "      <td>...</td>\n",
       "      <td>0</td>\n",
       "      <td>0</td>\n",
       "      <td>0</td>\n",
       "      <td>0</td>\n",
       "      <td>0</td>\n",
       "      <td>1</td>\n",
       "      <td>1</td>\n",
       "      <td>1</td>\n",
       "      <td>1</td>\n",
       "      <td>0</td>\n",
       "    </tr>\n",
       "    <tr>\n",
       "      <th>1</th>\n",
       "      <td>1.076166</td>\n",
       "      <td>6</td>\n",
       "      <td>3</td>\n",
       "      <td>2.147042</td>\n",
       "      <td>0.845340</td>\n",
       "      <td>1.602685</td>\n",
       "      <td>-0.275213</td>\n",
       "      <td>0.716988</td>\n",
       "      <td>0.865709</td>\n",
       "      <td>-1</td>\n",
       "      <td>...</td>\n",
       "      <td>0</td>\n",
       "      <td>0</td>\n",
       "      <td>0</td>\n",
       "      <td>1</td>\n",
       "      <td>0</td>\n",
       "      <td>0</td>\n",
       "      <td>0</td>\n",
       "      <td>1</td>\n",
       "      <td>1</td>\n",
       "      <td>0</td>\n",
       "    </tr>\n",
       "    <tr>\n",
       "      <th>2</th>\n",
       "      <td>-1.146223</td>\n",
       "      <td>8</td>\n",
       "      <td>2</td>\n",
       "      <td>0.973782</td>\n",
       "      <td>0.845340</td>\n",
       "      <td>-0.269988</td>\n",
       "      <td>1.086402</td>\n",
       "      <td>0.774320</td>\n",
       "      <td>0.865709</td>\n",
       "      <td>-1</td>\n",
       "      <td>...</td>\n",
       "      <td>0</td>\n",
       "      <td>0</td>\n",
       "      <td>0</td>\n",
       "      <td>1</td>\n",
       "      <td>0</td>\n",
       "      <td>0</td>\n",
       "      <td>0</td>\n",
       "      <td>0</td>\n",
       "      <td>1</td>\n",
       "      <td>0</td>\n",
       "    </tr>\n",
       "    <tr>\n",
       "      <th>3</th>\n",
       "      <td>-0.511255</td>\n",
       "      <td>5</td>\n",
       "      <td>4</td>\n",
       "      <td>-0.786110</td>\n",
       "      <td>0.650722</td>\n",
       "      <td>0.738797</td>\n",
       "      <td>1.014738</td>\n",
       "      <td>0.714672</td>\n",
       "      <td>0.326483</td>\n",
       "      <td>-1</td>\n",
       "      <td>...</td>\n",
       "      <td>0</td>\n",
       "      <td>0</td>\n",
       "      <td>0</td>\n",
       "      <td>1</td>\n",
       "      <td>0</td>\n",
       "      <td>0</td>\n",
       "      <td>0</td>\n",
       "      <td>1</td>\n",
       "      <td>1</td>\n",
       "      <td>0</td>\n",
       "    </tr>\n",
       "    <tr>\n",
       "      <th>4</th>\n",
       "      <td>0.017885</td>\n",
       "      <td>5</td>\n",
       "      <td>2</td>\n",
       "      <td>-0.786110</td>\n",
       "      <td>-1.230581</td>\n",
       "      <td>-1.280608</td>\n",
       "      <td>-1.326284</td>\n",
       "      <td>-1.352159</td>\n",
       "      <td>-1.009227</td>\n",
       "      <td>-1</td>\n",
       "      <td>...</td>\n",
       "      <td>1</td>\n",
       "      <td>0</td>\n",
       "      <td>0</td>\n",
       "      <td>0</td>\n",
       "      <td>0</td>\n",
       "      <td>0</td>\n",
       "      <td>0</td>\n",
       "      <td>0</td>\n",
       "      <td>1</td>\n",
       "      <td>0</td>\n",
       "    </tr>\n",
       "  </tbody>\n",
       "</table>\n",
       "<p>5 rows × 34 columns</p>\n",
       "</div>"
      ],
      "text/plain": [
       "        age  month  day_of_week  campaign  emp.var.rate  cons.price.idx  \\\n",
       "0 -1.146223      7            5  0.387151      0.845340        0.599402   \n",
       "1  1.076166      6            3  2.147042      0.845340        1.602685   \n",
       "2 -1.146223      8            2  0.973782      0.845340       -0.269988   \n",
       "3 -0.511255      5            4 -0.786110      0.650722        0.738797   \n",
       "4  0.017885      5            2 -0.786110     -1.230581       -1.280608   \n",
       "\n",
       "   cons.conf.idx  euribor3m  nr.employed  y  ...  education_high.school  \\\n",
       "0      -0.490205   0.772003     0.865709 -1  ...                      0   \n",
       "1      -0.275213   0.716988     0.865709 -1  ...                      0   \n",
       "2       1.086402   0.774320     0.865709 -1  ...                      0   \n",
       "3       1.014738   0.714672     0.326483 -1  ...                      0   \n",
       "4      -1.326284  -1.352159    -1.009227 -1  ...                      1   \n",
       "\n",
       "   education_illiterate  education_professional.course  \\\n",
       "0                     0                              0   \n",
       "1                     0                              0   \n",
       "2                     0                              0   \n",
       "3                     0                              0   \n",
       "4                     0                              0   \n",
       "\n",
       "   education_university.degree  default_yes  housing_yes  loan_yes  \\\n",
       "0                            0            0            1         1   \n",
       "1                            1            0            0         0   \n",
       "2                            1            0            0         0   \n",
       "3                            1            0            0         0   \n",
       "4                            0            0            0         0   \n",
       "\n",
       "   contact_telephone  poutcome_nonexistent  poutcome_success  \n",
       "0                  1                     1                 0  \n",
       "1                  1                     1                 0  \n",
       "2                  0                     1                 0  \n",
       "3                  1                     1                 0  \n",
       "4                  0                     1                 0  \n",
       "\n",
       "[5 rows x 34 columns]"
      ]
     },
     "execution_count": 2,
     "metadata": {},
     "output_type": "execute_result"
    }
   ],
   "source": [
    "path = '../data/'\n",
    "train = pd.read_csv(path+'processed-train.csv',delimiter=',')\n",
    "test = pd.read_csv(path+'processed-test.csv',delimiter=',')\n",
    "train.head()"
   ]
  },
  {
   "cell_type": "markdown",
   "metadata": {},
   "source": [
    "# Split data into features and labels <a name=\"split_data\"></a>"
   ]
  },
  {
   "cell_type": "code",
   "execution_count": 3,
   "metadata": {},
   "outputs": [],
   "source": [
    "# Predictors\n",
    "x_train = train.drop(['y'], 1)\n",
    "x_test = test.drop(['y'], 1)\n",
    "\n",
    "# Target values\n",
    "y_train = train['y']\n",
    "y_test = test['y']"
   ]
  },
  {
   "cell_type": "markdown",
   "metadata": {},
   "source": [
    "# Baseline algorithms <a name=\"baseline_algorithms\"></a>"
   ]
  },
  {
   "cell_type": "markdown",
   "metadata": {},
   "source": [
    "Let us run some baseline algorithms with default hyper-parameters on the training data to see how they perform. We will consider the following algorithms: **Logistic regression**, **Decision tree**, **Random forest**, **Gradient boosting classifier** and **k-Nearest neighbor**. For each algorithm, we will perform 5-fold cross-validation on the training set and store the mean classification accuracy and mean AUC-ROC (Area under ROC curve) along with the standard deviations."
   ]
  },
  {
   "cell_type": "code",
   "execution_count": 6,
   "metadata": {},
   "outputs": [],
   "source": [
    "# Make a list of algorithms to implement\n",
    "models = []\n",
    "models.append(('Logistic regression', LogisticRegression(max_iter=500)))\n",
    "models.append(('k-Nearest neighbor', KNeighborsClassifier()))\n",
    "models.append(('Decision tree', DecisionTreeClassifier()))\n",
    "models.append(('Random forest', RandomForestClassifier()))\n",
    "models.append(('XGBoost classifier', XGBClassifier()))"
   ]
  },
  {
   "cell_type": "code",
   "execution_count": 7,
   "metadata": {},
   "outputs": [
    {
     "name": "stdout",
     "output_type": "stream",
     "text": [
      "1\n",
      "2\n",
      "3\n",
      "4\n",
      "5\n",
      "6\n"
     ]
    },
    {
     "data": {
      "text/html": [
       "<div>\n",
       "<style scoped>\n",
       "    .dataframe tbody tr th:only-of-type {\n",
       "        vertical-align: middle;\n",
       "    }\n",
       "\n",
       "    .dataframe tbody tr th {\n",
       "        vertical-align: top;\n",
       "    }\n",
       "\n",
       "    .dataframe thead th {\n",
       "        text-align: right;\n",
       "    }\n",
       "</style>\n",
       "<table border=\"1\" class=\"dataframe\">\n",
       "  <thead>\n",
       "    <tr style=\"text-align: right;\">\n",
       "      <th></th>\n",
       "      <th>Algorithm</th>\n",
       "      <th>Mean ROC-AUC</th>\n",
       "      <th>S.D. AUC-ROC</th>\n",
       "      <th>Mean Accuracy</th>\n",
       "      <th>S.D. Accuracy</th>\n",
       "    </tr>\n",
       "  </thead>\n",
       "  <tbody>\n",
       "    <tr>\n",
       "      <th>4</th>\n",
       "      <td>Gradient boosting classifier</td>\n",
       "      <td>0.799690</td>\n",
       "      <td>0.006566</td>\n",
       "      <td>0.901548</td>\n",
       "      <td>0.003802</td>\n",
       "    </tr>\n",
       "    <tr>\n",
       "      <th>0</th>\n",
       "      <td>Logistic regression</td>\n",
       "      <td>0.780577</td>\n",
       "      <td>0.009218</td>\n",
       "      <td>0.901214</td>\n",
       "      <td>0.003305</td>\n",
       "    </tr>\n",
       "    <tr>\n",
       "      <th>5</th>\n",
       "      <td>XGBoost classifier</td>\n",
       "      <td>0.776692</td>\n",
       "      <td>0.011932</td>\n",
       "      <td>0.895446</td>\n",
       "      <td>0.004962</td>\n",
       "    </tr>\n",
       "    <tr>\n",
       "      <th>3</th>\n",
       "      <td>Random forest</td>\n",
       "      <td>0.773770</td>\n",
       "      <td>0.004436</td>\n",
       "      <td>0.892623</td>\n",
       "      <td>0.003945</td>\n",
       "    </tr>\n",
       "    <tr>\n",
       "      <th>1</th>\n",
       "      <td>k-Nearest neighbor</td>\n",
       "      <td>0.723551</td>\n",
       "      <td>0.009259</td>\n",
       "      <td>0.889951</td>\n",
       "      <td>0.002840</td>\n",
       "    </tr>\n",
       "    <tr>\n",
       "      <th>2</th>\n",
       "      <td>Decision tree</td>\n",
       "      <td>0.624478</td>\n",
       "      <td>0.010074</td>\n",
       "      <td>0.840255</td>\n",
       "      <td>0.002616</td>\n",
       "    </tr>\n",
       "  </tbody>\n",
       "</table>\n",
       "</div>"
      ],
      "text/plain": [
       "                      Algorithm  Mean ROC-AUC  S.D. AUC-ROC  Mean Accuracy  \\\n",
       "4  Gradient boosting classifier      0.799690      0.006566       0.901548   \n",
       "0           Logistic regression      0.780577      0.009218       0.901214   \n",
       "5            XGBoost classifier      0.776692      0.011932       0.895446   \n",
       "3                 Random forest      0.773770      0.004436       0.892623   \n",
       "1            k-Nearest neighbor      0.723551      0.009259       0.889951   \n",
       "2                 Decision tree      0.624478      0.010074       0.840255   \n",
       "\n",
       "   S.D. Accuracy  \n",
       "4       0.003802  \n",
       "0       0.003305  \n",
       "5       0.004962  \n",
       "3       0.003945  \n",
       "1       0.002840  \n",
       "2       0.002616  "
      ]
     },
     "execution_count": 7,
     "metadata": {},
     "output_type": "execute_result"
    }
   ],
   "source": [
    "# Make a dataframe to store classification metrics\n",
    "col = ['Algorithm', 'Mean ROC-AUC', 'S.D. AUC-ROC', 'Mean Accuracy', 'S.D. Accuracy']\n",
    "df_results = pd.DataFrame(columns=col)\n",
    "auc_results = []\n",
    "acc_results = []\n",
    "i = 0\n",
    "\n",
    "# Fit the models one by one\n",
    "for name, model in models:\n",
    "    kfold = KFold(n_splits=5, shuffle=True, random_state=10)  # 5-fold cross-validation\n",
    "    cv_auc_results = cross_val_score(model, x_train, y_train, cv=kfold, scoring='roc_auc')\n",
    "    auc_results.append(cv_auc_results)\n",
    "    cv_acc_results = cross_val_score(model, x_train, y_train, cv=kfold, scoring='accuracy')\n",
    "    acc_results.append(cv_acc_results)\n",
    "    df_results.loc[i] = [name,\n",
    "                         cv_auc_results.mean(),\n",
    "                         cv_auc_results.std(),\n",
    "                         cv_acc_results.mean(),\n",
    "                         cv_acc_results.std()\n",
    "                         ]\n",
    "    i += 1\n",
    "    print(i)\n",
    "df_results.sort_values(by=['Mean ROC-AUC'], ascending=False)"
   ]
  },
  {
   "cell_type": "code",
   "execution_count": 8,
   "metadata": {},
   "outputs": [
    {
     "data": {
      "image/png": "[encoded data removed]",
      "text/plain": [
       "<Figure size 1080x504 with 1 Axes>"
      ]
     },
     "metadata": {
      "needs_background": "light"
     },
     "output_type": "display_data"
    }
   ],
   "source": [
    "fig = plt.figure(figsize=(15, 7))\n",
    "fig.suptitle('Comparison of ROC-AUC scores for different algorithms')\n",
    "ax = fig.add_subplot(111)\n",
    "plt.boxplot(auc_results)\n",
    "ax.set_xticklabels(df_results['Algorithm'])\n",
    "plt.show()"
   ]
  },
  {
   "cell_type": "markdown",
   "metadata": {},
   "source": []
  },
  {
   "cell_type": "markdown",
   "metadata": {},
   "source": [
    "So although the classification accuracies for all the models except decision tree are more or less similar, it is not the right indicator because of the class imbalance. Going by the ROC-AUC score, which quantifies a classifier's ability to differentiate between the classes, gradient boosting classifier and logistic regression are better baseline models."
   ]
  },
  {
   "cell_type": "markdown",
   "metadata": {},
   "source": [
    "# Grid search and hyper-parameter tuning <a name=\"grid_search\"></a>"
   ]
  },
  {
   "cell_type": "markdown",
   "metadata": {},
   "source": [
    "### Logistic regression <a name=\"grid_logistic1\"></a>"
   ]
  },
  {
   "cell_type": "code",
   "execution_count": 9,
   "metadata": {},
   "outputs": [],
   "source": [
    "logistic = LogisticRegression(max_iter=1000)\n",
    "C = np.logspace(-2, 4, 10)\n",
    "class_weight = ['None', 'balanced']\n",
    "hyperparameters = dict(C=C, class_weight=class_weight)\n",
    "clf = GridSearchCV(logistic, hyperparameters, cv=5, verbose=0)\n",
    "best_logistic = clf.fit(x_train, y_train)"
   ]
  },
  {
   "cell_type": "code",
   "execution_count": 10,
   "metadata": {},
   "outputs": [
    {
     "name": "stdout",
     "output_type": "stream",
     "text": [
      "Best Penalty: l2\n",
      "Best C: 1.0\n",
      "Best Class Weight: None\n"
     ]
    }
   ],
   "source": [
    "print('Best Penalty:', best_logistic.best_estimator_.get_params()['penalty'])\n",
    "print('Best C:', best_logistic.best_estimator_.get_params()['C'])\n",
    "print('Best Class Weight:', best_logistic.best_estimator_.get_params()['class_weight'])"
   ]
  },
  {
   "cell_type": "code",
   "execution_count": 11,
   "metadata": {},
   "outputs": [
    {
     "name": "stdout",
     "output_type": "stream",
     "text": [
      "Best case ROC-AUC score for logistic regression model is 0.7805773855640838\n"
     ]
    }
   ],
   "source": [
    "cv_auc_results = cross_val_score(best_logistic.best_estimator_, x_train, y_train, cv=kfold, scoring='roc_auc')\n",
    "print(f'Best case ROC-AUC score for logistic regression model is {cv_auc_results.mean()}')"
   ]
  },
  {
   "cell_type": "markdown",
   "metadata": {},
   "source": [
    "### XGBoost classifier <a name=\"grid_xgboost1\"></a>"
   ]
  },
  {
   "cell_type": "code",
   "execution_count": 19,
   "metadata": {},
   "outputs": [],
   "source": [
    "xgboost = XGBClassifier()\n",
    "learning_rate = [0.05, 0.1, 0.3]\n",
    "n_estimators = [100, 200, 500]\n",
    "max_depth = [3, 6]\n",
    "subsample = [0.5, 0.1]\n",
    "colsample_bytree = [0.5, 1]\n",
    "hyperparameters = dict(learning_rate=learning_rate, n_estimators=n_estimators, max_depth=max_depth, subsample=subsample, colsample_bytree=colsample_bytree)\n",
    "clf = GridSearchCV(xgboost, hyperparameters, cv=5, verbose=0)\n",
    "best_xgboost = clf.fit(x_train, y_train)"
   ]
  },
  {
   "cell_type": "code",
   "execution_count": 20,
   "metadata": {},
   "outputs": [
    {
     "name": "stdout",
     "output_type": "stream",
     "text": [
      "Best learning rate: 0.05\n",
      "Best number of estimators: 500\n",
      "Best maximum depth: 3\n",
      "Best subsample: 0.5\n",
      "Best colsample by tree: 0.5\n"
     ]
    }
   ],
   "source": [
    "print('Best learning rate:', best_xgboost.best_estimator_.get_params()['learning_rate'])\n",
    "print('Best number of estimators:', best_xgboost.best_estimator_.get_params()['n_estimators'])\n",
    "print('Best maximum depth:', best_xgboost.best_estimator_.get_params()['max_depth'])\n",
    "print('Best subsample:', best_xgboost.best_estimator_.get_params()['subsample'])\n",
    "print('Best colsample by tree:', best_xgboost.best_estimator_.get_params()['colsample_bytree'])"
   ]
  },
  {
   "cell_type": "code",
   "execution_count": 21,
   "metadata": {},
   "outputs": [
    {
     "name": "stdout",
     "output_type": "stream",
     "text": [
      "Best case ROC-AUC score for XGBoost classifier is 0.8008795614223594\n"
     ]
    }
   ],
   "source": [
    "cv_auc_results = cross_val_score(best_xgboost.best_estimator_, x_train, y_train, cv=kfold, scoring='roc_auc')\n",
    "print(f'Best case ROC-AUC score for XGBoost classifier is {cv_auc_results.mean()}')"
   ]
  },
  {
   "cell_type": "markdown",
   "metadata": {},
   "source": [
    "# Feature selection using Recursive Feature Elimination <a name=\"rfe\"></a>"
   ]
  },
  {
   "cell_type": "markdown",
   "metadata": {},
   "source": [
    "Let us use RFE to select the top features using random forest classifier and see if using a subset of features can improve classification performance over the baseline for the two most promising candidate algorithms: logistic regression and XGBoost."
   ]
  },
  {
   "cell_type": "markdown",
   "metadata": {},
   "source": [
    "## Baseline algorithms"
   ]
  },
  {
   "cell_type": "code",
   "execution_count": 23,
   "metadata": {},
   "outputs": [
    {
     "data": {
      "text/plain": [
       "Index(['age', 'month', 'day_of_week', 'campaign', 'cons.conf.idx', 'euribor3m',\n",
       "       'nr.employed', 'education_university.degree', 'housing_yes',\n",
       "       'poutcome_success'],\n",
       "      dtype='object')"
      ]
     },
     "execution_count": 23,
     "metadata": {},
     "output_type": "execute_result"
    }
   ],
   "source": [
    "estimator = RandomForestClassifier(random_state=1)\n",
    "selector = RFE(estimator, n_features_to_select=10, step=1)\n",
    "selector = selector.fit(x_train, y_train)\n",
    "subset_columns = x_train.columns[selector.support_]\n",
    "subset_columns "
   ]
  },
  {
   "cell_type": "code",
   "execution_count": 24,
   "metadata": {},
   "outputs": [
    {
     "data": {
      "text/html": [
       "<div>\n",
       "<style scoped>\n",
       "    .dataframe tbody tr th:only-of-type {\n",
       "        vertical-align: middle;\n",
       "    }\n",
       "\n",
       "    .dataframe tbody tr th {\n",
       "        vertical-align: top;\n",
       "    }\n",
       "\n",
       "    .dataframe thead th {\n",
       "        text-align: right;\n",
       "    }\n",
       "</style>\n",
       "<table border=\"1\" class=\"dataframe\">\n",
       "  <thead>\n",
       "    <tr style=\"text-align: right;\">\n",
       "      <th></th>\n",
       "      <th>age</th>\n",
       "      <th>month</th>\n",
       "      <th>day_of_week</th>\n",
       "      <th>campaign</th>\n",
       "      <th>cons.conf.idx</th>\n",
       "      <th>euribor3m</th>\n",
       "      <th>nr.employed</th>\n",
       "      <th>education_university.degree</th>\n",
       "      <th>housing_yes</th>\n",
       "      <th>poutcome_success</th>\n",
       "    </tr>\n",
       "  </thead>\n",
       "  <tbody>\n",
       "    <tr>\n",
       "      <th>0</th>\n",
       "      <td>-1.146223</td>\n",
       "      <td>7</td>\n",
       "      <td>5</td>\n",
       "      <td>0.387151</td>\n",
       "      <td>-0.490205</td>\n",
       "      <td>0.772003</td>\n",
       "      <td>0.865709</td>\n",
       "      <td>0</td>\n",
       "      <td>1</td>\n",
       "      <td>0</td>\n",
       "    </tr>\n",
       "    <tr>\n",
       "      <th>1</th>\n",
       "      <td>1.076166</td>\n",
       "      <td>6</td>\n",
       "      <td>3</td>\n",
       "      <td>2.147042</td>\n",
       "      <td>-0.275213</td>\n",
       "      <td>0.716988</td>\n",
       "      <td>0.865709</td>\n",
       "      <td>1</td>\n",
       "      <td>0</td>\n",
       "      <td>0</td>\n",
       "    </tr>\n",
       "    <tr>\n",
       "      <th>2</th>\n",
       "      <td>-1.146223</td>\n",
       "      <td>8</td>\n",
       "      <td>2</td>\n",
       "      <td>0.973782</td>\n",
       "      <td>1.086402</td>\n",
       "      <td>0.774320</td>\n",
       "      <td>0.865709</td>\n",
       "      <td>1</td>\n",
       "      <td>0</td>\n",
       "      <td>0</td>\n",
       "    </tr>\n",
       "    <tr>\n",
       "      <th>3</th>\n",
       "      <td>-0.511255</td>\n",
       "      <td>5</td>\n",
       "      <td>4</td>\n",
       "      <td>-0.786110</td>\n",
       "      <td>1.014738</td>\n",
       "      <td>0.714672</td>\n",
       "      <td>0.326483</td>\n",
       "      <td>1</td>\n",
       "      <td>0</td>\n",
       "      <td>0</td>\n",
       "    </tr>\n",
       "    <tr>\n",
       "      <th>4</th>\n",
       "      <td>0.017885</td>\n",
       "      <td>5</td>\n",
       "      <td>2</td>\n",
       "      <td>-0.786110</td>\n",
       "      <td>-1.326284</td>\n",
       "      <td>-1.352159</td>\n",
       "      <td>-1.009227</td>\n",
       "      <td>0</td>\n",
       "      <td>0</td>\n",
       "      <td>0</td>\n",
       "    </tr>\n",
       "  </tbody>\n",
       "</table>\n",
       "</div>"
      ],
      "text/plain": [
       "        age  month  day_of_week  campaign  cons.conf.idx  euribor3m  \\\n",
       "0 -1.146223      7            5  0.387151      -0.490205   0.772003   \n",
       "1  1.076166      6            3  2.147042      -0.275213   0.716988   \n",
       "2 -1.146223      8            2  0.973782       1.086402   0.774320   \n",
       "3 -0.511255      5            4 -0.786110       1.014738   0.714672   \n",
       "4  0.017885      5            2 -0.786110      -1.326284  -1.352159   \n",
       "\n",
       "   nr.employed  education_university.degree  housing_yes  poutcome_success  \n",
       "0     0.865709                            0            1                 0  \n",
       "1     0.865709                            1            0                 0  \n",
       "2     0.865709                            1            0                 0  \n",
       "3     0.326483                            1            0                 0  \n",
       "4    -1.009227                            0            0                 0  "
      ]
     },
     "execution_count": 24,
     "metadata": {},
     "output_type": "execute_result"
    }
   ],
   "source": [
    "x_train_subset = x_train[subset_columns]\n",
    "x_train_subset.head()"
   ]
  },
  {
   "cell_type": "code",
   "execution_count": 25,
   "metadata": {},
   "outputs": [
    {
     "name": "stdout",
     "output_type": "stream",
     "text": [
      "1\n",
      "2\n"
     ]
    },
    {
     "data": {
      "text/html": [
       "<div>\n",
       "<style scoped>\n",
       "    .dataframe tbody tr th:only-of-type {\n",
       "        vertical-align: middle;\n",
       "    }\n",
       "\n",
       "    .dataframe tbody tr th {\n",
       "        vertical-align: top;\n",
       "    }\n",
       "\n",
       "    .dataframe thead th {\n",
       "        text-align: right;\n",
       "    }\n",
       "</style>\n",
       "<table border=\"1\" class=\"dataframe\">\n",
       "  <thead>\n",
       "    <tr style=\"text-align: right;\">\n",
       "      <th></th>\n",
       "      <th>Algorithm</th>\n",
       "      <th>Mean ROC-AUC</th>\n",
       "      <th>S.D. AUC-ROC</th>\n",
       "      <th>Mean Accuracy</th>\n",
       "      <th>S.D. Accuracy</th>\n",
       "    </tr>\n",
       "  </thead>\n",
       "  <tbody>\n",
       "    <tr>\n",
       "      <th>1</th>\n",
       "      <td>XGBoost classifier</td>\n",
       "      <td>0.779204</td>\n",
       "      <td>0.008342</td>\n",
       "      <td>0.896509</td>\n",
       "      <td>0.005256</td>\n",
       "    </tr>\n",
       "    <tr>\n",
       "      <th>0</th>\n",
       "      <td>Logistic regression</td>\n",
       "      <td>0.761477</td>\n",
       "      <td>0.011638</td>\n",
       "      <td>0.900395</td>\n",
       "      <td>0.003290</td>\n",
       "    </tr>\n",
       "  </tbody>\n",
       "</table>\n",
       "</div>"
      ],
      "text/plain": [
       "             Algorithm  Mean ROC-AUC  S.D. AUC-ROC  Mean Accuracy  \\\n",
       "1   XGBoost classifier      0.779204      0.008342       0.896509   \n",
       "0  Logistic regression      0.761477      0.011638       0.900395   \n",
       "\n",
       "   S.D. Accuracy  \n",
       "1       0.005256  \n",
       "0       0.003290  "
      ]
     },
     "execution_count": 25,
     "metadata": {},
     "output_type": "execute_result"
    }
   ],
   "source": [
    "models = []\n",
    "models.append(('Logistic regression', LogisticRegression(max_iter=500)))\n",
    "models.append(('XGBoost classifier', XGBClassifier()))\n",
    "\n",
    "df_subset_results = pd.DataFrame(columns=col)\n",
    "auc_results = []\n",
    "acc_results = []\n",
    "i = 0\n",
    "\n",
    "for name, model in models:\n",
    "    kfold = KFold(n_splits=5, shuffle=True, random_state=10)  # 5-fold cross-validation\n",
    "    cv_auc_results = cross_val_score(model, x_train_subset, y_train, cv=kfold, scoring='roc_auc')\n",
    "    auc_results.append(cv_auc_results)\n",
    "    cv_acc_results = cross_val_score(model, x_train_subset, y_train, cv=kfold, scoring='accuracy')\n",
    "    acc_results.append(cv_acc_results)\n",
    "    df_subset_results.loc[i] = [name,\n",
    "                         cv_auc_results.mean(),\n",
    "                         cv_auc_results.std(),\n",
    "                         cv_acc_results.mean(),\n",
    "                         cv_acc_results.std()\n",
    "                         ]\n",
    "    i += 1\n",
    "    print(i)\n",
    "df_subset_results.sort_values(by=['Mean ROC-AUC'], ascending=False)"
   ]
  },
  {
   "cell_type": "markdown",
   "metadata": {},
   "source": [
    "Although the performance of logistic regression deteriorates a little, XGBoost actually performs better with only 10 features. Sweet!"
   ]
  },
  {
   "cell_type": "markdown",
   "metadata": {},
   "source": [
    "## Grid search and hyper-parameter tuning"
   ]
  },
  {
   "cell_type": "markdown",
   "metadata": {},
   "source": [
    "### Logistic regression"
   ]
  },
  {
   "cell_type": "code",
   "execution_count": 26,
   "metadata": {},
   "outputs": [],
   "source": [
    "logistic = LogisticRegression(max_iter=1000)\n",
    "C = np.logspace(-2, 4, 10)\n",
    "class_weight = ['None', 'balanced']\n",
    "hyperparameters = dict(C=C, class_weight=class_weight)\n",
    "clf = GridSearchCV(logistic, hyperparameters, cv=5, verbose=0)\n",
    "best_logistic_subset = clf.fit(x_train_subset, y_train)"
   ]
  },
  {
   "cell_type": "code",
   "execution_count": 27,
   "metadata": {},
   "outputs": [
    {
     "name": "stdout",
     "output_type": "stream",
     "text": [
      "Best Penalty: l2\n",
      "Best C: 4.6415888336127775\n",
      "Best Class Weight: None\n"
     ]
    }
   ],
   "source": [
    "print('Best Penalty:', best_logistic_subset.best_estimator_.get_params()['penalty'])\n",
    "print('Best C:', best_logistic_subset.best_estimator_.get_params()['C'])\n",
    "print('Best Class Weight:', best_logistic_subset.best_estimator_.get_params()['class_weight'])"
   ]
  },
  {
   "cell_type": "code",
   "execution_count": 28,
   "metadata": {},
   "outputs": [
    {
     "name": "stdout",
     "output_type": "stream",
     "text": [
      "Best case ROC-AUC score for logistic regression model with 10 features is 0.7614766433706428\n"
     ]
    }
   ],
   "source": [
    "cv_auc_results = cross_val_score(best_logistic_subset.best_estimator_, x_train_subset, y_train, cv=kfold, scoring='roc_auc')\n",
    "print(f'Best case ROC-AUC score for logistic regression model with 10 features is {cv_auc_results.mean()}')"
   ]
  },
  {
   "cell_type": "markdown",
   "metadata": {},
   "source": [
    "### XGBoost classifier"
   ]
  },
  {
   "cell_type": "code",
   "execution_count": 29,
   "metadata": {},
   "outputs": [],
   "source": [
    "xgboost = XGBClassifier()\n",
    "learning_rate = [0.05, 0.1, 0.3]\n",
    "n_estimators = [100, 200, 500]\n",
    "max_depth = [3, 6]\n",
    "subsample = [0.5, 0.1]\n",
    "colsample_bytree = [0.5, 1]\n",
    "hyperparameters = dict(learning_rate=learning_rate, n_estimators=n_estimators, max_depth=max_depth, subsample=subsample, colsample_bytree=colsample_bytree)\n",
    "clf = GridSearchCV(xgboost, hyperparameters, cv=5, verbose=0)\n",
    "best_xgboost_subset = clf.fit(x_train_subset, y_train)"
   ]
  },
  {
   "cell_type": "code",
   "execution_count": 30,
   "metadata": {},
   "outputs": [
    {
     "name": "stdout",
     "output_type": "stream",
     "text": [
      "Best learning rate: 0.05\n",
      "Best number of estimators: 200\n",
      "Best maximum depth: 3\n",
      "Best subsample: 0.1\n",
      "Best colsample by tree: 0.5\n"
     ]
    }
   ],
   "source": [
    "print('Best learning rate:', best_xgboost_subset.best_estimator_.get_params()['learning_rate'])\n",
    "print('Best number of estimators:', best_xgboost_subset.best_estimator_.get_params()['n_estimators'])\n",
    "print('Best maximum depth:', best_xgboost_subset.best_estimator_.get_params()['max_depth'])\n",
    "print('Best subsample:', best_xgboost_subset.best_estimator_.get_params()['subsample'])\n",
    "print('Best colsample by tree:', best_xgboost_subset.best_estimator_.get_params()['colsample_bytree'])"
   ]
  },
  {
   "cell_type": "code",
   "execution_count": 31,
   "metadata": {},
   "outputs": [
    {
     "name": "stdout",
     "output_type": "stream",
     "text": [
      "Best case ROC-AUC score for XGBoost classifier with 10 features is 0.7938766169952183\n"
     ]
    }
   ],
   "source": [
    "cv_auc_results = cross_val_score(best_xgboost_subset.best_estimator_, x_train_subset, y_train, cv=kfold, scoring='roc_auc')\n",
    "print(f'Best case ROC-AUC score for XGBoost classifier with 10 features is {cv_auc_results.mean()}')"
   ]
  },
  {
   "cell_type": "code",
   "execution_count": null,
   "metadata": {},
   "outputs": [],
   "source": []
  }
 ],
 "metadata": {
  "kernelspec": {
   "display_name": "Python 3",
   "language": "python",
   "name": "python3"
  },
  "language_info": {
   "codemirror_mode": {
    "name": "ipython",
    "version": 3
   },
   "file_extension": ".py",
   "mimetype": "text/x-python",
   "name": "python",
   "nbconvert_exporter": "python",
   "pygments_lexer": "ipython3",
   "version": "3.7.2"
  }
 },
 "nbformat": 4,
 "nbformat_minor": 2
}
