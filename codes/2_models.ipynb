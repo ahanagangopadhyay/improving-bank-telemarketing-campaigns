{
 "cells": [
  {
   "cell_type": "markdown",
   "metadata": {},
   "source": [
    "# Table of contents\n",
    "\n",
    "- [Import libraries](#import_libraries)\n",
    "- [Load processed dataset](#load_dataset)\n",
    "- [Split data into features and labels](#split_data)\n",
    "- [Building classifiers using all features](#all_features)\n",
    "    - [Baseline algorithms](#baseline_algorithms)\n",
    "    - [Grid search and hyper-parameter tuning](#grid_search)\n",
    "        - [Logistic regression](#grid_logistic1)\n",
    "        - [XGBoost classifier](#grid_xgboost1)\n",
    "    - [Synthetic Minority Oversampling (SMOTE)]\n",
    "- [Building classifiers using a subset of features](#subset_features)\n",
    "    - [Feature selection using Recursive Feature Elimination](#rfe)\n",
    "    - [Baseline algorithms using selected features](#rfe_baseline)\n",
    "    - [XGBoost Grid search using selected features](#rfe_xgboost)\n",
    "    - [Synthetic Minority Oversampling (SMOTE) using selected features]"
   ]
  },
  {
   "cell_type": "markdown",
   "metadata": {},
   "source": [
    "## Import libraries <a name=\"import_libraries\"></a>"
   ]
  },
  {
   "cell_type": "code",
   "execution_count": 5,
   "metadata": {},
   "outputs": [],
   "source": [
    "import numpy as np\n",
    "import pandas as pd\n",
    "import matplotlib.pyplot as plt\n",
    "% matplotlib inline\n",
    "from sklearn.metrics import roc_auc_score, classification_report, roc_curve\n",
    "from sklearn.linear_model import LogisticRegression\n",
    "from sklearn.tree import DecisionTreeClassifier\n",
    "from sklearn.ensemble import GradientBoostingClassifier, RandomForestClassifier\n",
    "from xgboost import XGBClassifier \n",
    "from sklearn.svm import SVC\n",
    "from sklearn.neighbors import KNeighborsClassifier\n",
    "from sklearn.model_selection import KFold\n",
    "from sklearn.model_selection import cross_val_score\n",
    "from sklearn.feature_selection import RFE\n",
    "from sklearn.pipeline import Pipeline\n",
    "from sklearn.model_selection import RepeatedStratifiedKFold\n",
    "from sklearn.model_selection import cross_val_score\n",
    "from sklearn.model_selection import GridSearchCV"
   ]
  },
  {
   "cell_type": "markdown",
   "metadata": {},
   "source": [
    "## Load processed dataset <a name=\"load_dataset\"></a>"
   ]
  },
  {
   "cell_type": "code",
   "execution_count": 44,
   "metadata": {},
   "outputs": [
    {
     "data": {
      "text/html": [
       "<div>\n",
       "<style scoped>\n",
       "    .dataframe tbody tr th:only-of-type {\n",
       "        vertical-align: middle;\n",
       "    }\n",
       "\n",
       "    .dataframe tbody tr th {\n",
       "        vertical-align: top;\n",
       "    }\n",
       "\n",
       "    .dataframe thead th {\n",
       "        text-align: right;\n",
       "    }\n",
       "</style>\n",
       "<table border=\"1\" class=\"dataframe\">\n",
       "  <thead>\n",
       "    <tr style=\"text-align: right;\">\n",
       "      <th></th>\n",
       "      <th>age</th>\n",
       "      <th>month</th>\n",
       "      <th>day_of_week</th>\n",
       "      <th>campaign</th>\n",
       "      <th>emp.var.rate</th>\n",
       "      <th>cons.price.idx</th>\n",
       "      <th>cons.conf.idx</th>\n",
       "      <th>euribor3m</th>\n",
       "      <th>nr.employed</th>\n",
       "      <th>y</th>\n",
       "      <th>...</th>\n",
       "      <th>education_high.school</th>\n",
       "      <th>education_illiterate</th>\n",
       "      <th>education_professional.course</th>\n",
       "      <th>education_university.degree</th>\n",
       "      <th>default_yes</th>\n",
       "      <th>housing_yes</th>\n",
       "      <th>loan_yes</th>\n",
       "      <th>contact_telephone</th>\n",
       "      <th>poutcome_nonexistent</th>\n",
       "      <th>poutcome_success</th>\n",
       "    </tr>\n",
       "  </thead>\n",
       "  <tbody>\n",
       "    <tr>\n",
       "      <th>0</th>\n",
       "      <td>-1.459752</td>\n",
       "      <td>6</td>\n",
       "      <td>2</td>\n",
       "      <td>-0.194960</td>\n",
       "      <td>-1.939192</td>\n",
       "      <td>-1.151320</td>\n",
       "      <td>-0.038829</td>\n",
       "      <td>-1.365439</td>\n",
       "      <td>-1.339174</td>\n",
       "      <td>-1</td>\n",
       "      <td>...</td>\n",
       "      <td>0</td>\n",
       "      <td>0</td>\n",
       "      <td>1</td>\n",
       "      <td>0</td>\n",
       "      <td>0</td>\n",
       "      <td>0</td>\n",
       "      <td>0</td>\n",
       "      <td>0</td>\n",
       "      <td>0</td>\n",
       "      <td>0</td>\n",
       "    </tr>\n",
       "    <tr>\n",
       "      <th>1</th>\n",
       "      <td>-0.825202</td>\n",
       "      <td>5</td>\n",
       "      <td>4</td>\n",
       "      <td>-0.782785</td>\n",
       "      <td>0.651988</td>\n",
       "      <td>0.740483</td>\n",
       "      <td>1.011223</td>\n",
       "      <td>0.713119</td>\n",
       "      <td>0.328570</td>\n",
       "      <td>1</td>\n",
       "      <td>...</td>\n",
       "      <td>0</td>\n",
       "      <td>0</td>\n",
       "      <td>1</td>\n",
       "      <td>0</td>\n",
       "      <td>0</td>\n",
       "      <td>0</td>\n",
       "      <td>0</td>\n",
       "      <td>1</td>\n",
       "      <td>1</td>\n",
       "      <td>0</td>\n",
       "    </tr>\n",
       "    <tr>\n",
       "      <th>2</th>\n",
       "      <td>-0.719443</td>\n",
       "      <td>11</td>\n",
       "      <td>4</td>\n",
       "      <td>-0.782785</td>\n",
       "      <td>-0.125366</td>\n",
       "      <td>-0.716444</td>\n",
       "      <td>-0.325207</td>\n",
       "      <td>0.360232</td>\n",
       "      <td>0.398301</td>\n",
       "      <td>-1</td>\n",
       "      <td>...</td>\n",
       "      <td>0</td>\n",
       "      <td>0</td>\n",
       "      <td>0</td>\n",
       "      <td>1</td>\n",
       "      <td>0</td>\n",
       "      <td>0</td>\n",
       "      <td>0</td>\n",
       "      <td>1</td>\n",
       "      <td>1</td>\n",
       "      <td>0</td>\n",
       "    </tr>\n",
       "    <tr>\n",
       "      <th>3</th>\n",
       "      <td>-0.190651</td>\n",
       "      <td>7</td>\n",
       "      <td>5</td>\n",
       "      <td>0.980690</td>\n",
       "      <td>0.846326</td>\n",
       "      <td>0.601029</td>\n",
       "      <td>-0.492261</td>\n",
       "      <td>0.772126</td>\n",
       "      <td>0.867536</td>\n",
       "      <td>-1</td>\n",
       "      <td>...</td>\n",
       "      <td>0</td>\n",
       "      <td>0</td>\n",
       "      <td>0</td>\n",
       "      <td>0</td>\n",
       "      <td>0</td>\n",
       "      <td>0</td>\n",
       "      <td>1</td>\n",
       "      <td>1</td>\n",
       "      <td>1</td>\n",
       "      <td>0</td>\n",
       "    </tr>\n",
       "    <tr>\n",
       "      <th>4</th>\n",
       "      <td>-0.084893</td>\n",
       "      <td>7</td>\n",
       "      <td>2</td>\n",
       "      <td>0.980690</td>\n",
       "      <td>0.846326</td>\n",
       "      <td>0.601029</td>\n",
       "      <td>-0.492261</td>\n",
       "      <td>0.774440</td>\n",
       "      <td>0.867536</td>\n",
       "      <td>-1</td>\n",
       "      <td>...</td>\n",
       "      <td>1</td>\n",
       "      <td>0</td>\n",
       "      <td>0</td>\n",
       "      <td>0</td>\n",
       "      <td>0</td>\n",
       "      <td>1</td>\n",
       "      <td>1</td>\n",
       "      <td>0</td>\n",
       "      <td>1</td>\n",
       "      <td>0</td>\n",
       "    </tr>\n",
       "  </tbody>\n",
       "</table>\n",
       "<p>5 rows × 34 columns</p>\n",
       "</div>"
      ],
      "text/plain": [
       "        age  month  day_of_week  campaign  emp.var.rate  cons.price.idx  \\\n",
       "0 -1.459752      6            2 -0.194960     -1.939192       -1.151320   \n",
       "1 -0.825202      5            4 -0.782785      0.651988        0.740483   \n",
       "2 -0.719443     11            4 -0.782785     -0.125366       -0.716444   \n",
       "3 -0.190651      7            5  0.980690      0.846326        0.601029   \n",
       "4 -0.084893      7            2  0.980690      0.846326        0.601029   \n",
       "\n",
       "   cons.conf.idx  euribor3m  nr.employed  y  ...  education_high.school  \\\n",
       "0      -0.038829  -1.365439    -1.339174 -1  ...                      0   \n",
       "1       1.011223   0.713119     0.328570  1  ...                      0   \n",
       "2      -0.325207   0.360232     0.398301 -1  ...                      0   \n",
       "3      -0.492261   0.772126     0.867536 -1  ...                      0   \n",
       "4      -0.492261   0.774440     0.867536 -1  ...                      1   \n",
       "\n",
       "   education_illiterate  education_professional.course  \\\n",
       "0                     0                              1   \n",
       "1                     0                              1   \n",
       "2                     0                              0   \n",
       "3                     0                              0   \n",
       "4                     0                              0   \n",
       "\n",
       "   education_university.degree  default_yes  housing_yes  loan_yes  \\\n",
       "0                            0            0            0         0   \n",
       "1                            0            0            0         0   \n",
       "2                            1            0            0         0   \n",
       "3                            0            0            0         1   \n",
       "4                            0            0            1         1   \n",
       "\n",
       "   contact_telephone  poutcome_nonexistent  poutcome_success  \n",
       "0                  0                     0                 0  \n",
       "1                  1                     1                 0  \n",
       "2                  1                     1                 0  \n",
       "3                  1                     1                 0  \n",
       "4                  0                     1                 0  \n",
       "\n",
       "[5 rows x 34 columns]"
      ]
     },
     "execution_count": 44,
     "metadata": {},
     "output_type": "execute_result"
    }
   ],
   "source": [
    "path = '../data/'\n",
    "train = pd.read_csv(path+'processed-train.csv',delimiter=',')\n",
    "test = pd.read_csv(path+'processed-test.csv',delimiter=',')\n",
    "train.head()"
   ]
  },
  {
   "cell_type": "markdown",
   "metadata": {},
   "source": [
    "## Split data into features and labels <a name=\"split_data\"></a>"
   ]
  },
  {
   "cell_type": "code",
   "execution_count": 45,
   "metadata": {},
   "outputs": [],
   "source": [
    "# Predictors\n",
    "x_train = train.drop(['y'], 1)\n",
    "x_test = test.drop(['y'], 1)\n",
    "\n",
    "# Target values\n",
    "y_train = train['y']\n",
    "y_test = test['y']"
   ]
  },
  {
   "cell_type": "markdown",
   "metadata": {},
   "source": [
    "## Building classifiers using all features <a name=\"all_features\"></a>"
   ]
  },
  {
   "cell_type": "markdown",
   "metadata": {},
   "source": [
    "### Baseline algorithms <a name=\"baseline_algorithms\"></a>"
   ]
  },
  {
   "cell_type": "markdown",
   "metadata": {},
   "source": [
    "Let us run some baseline algorithms with default hyper-parameters on the training data to see how they perform. We will consider the following algorithms: **Logistic regression**, **Decision tree**, **Random forest**, **Gradient boosting classifier** and **k-Nearest neighbor**. For each algorithm, we will perform 5-fold cross-validation on the training set and store the mean classification accuracy and mean AUC-ROC (Area under ROC curve) along with the standard deviations."
   ]
  },
  {
   "cell_type": "code",
   "execution_count": 64,
   "metadata": {},
   "outputs": [],
   "source": [
    "# Make a list of algorithms to implement\n",
    "models = []\n",
    "models.append(('Logistic regression', LogisticRegression(max_iter=500)))\n",
    "models.append(('k-Nearest neighbor', KNeighborsClassifier()))\n",
    "models.append(('Decision tree', DecisionTreeClassifier()))\n",
    "models.append(('Random forest', RandomForestClassifier()))\n",
    "models.append(('XGBoost classifier', XGBClassifier()))"
   ]
  },
  {
   "cell_type": "code",
   "execution_count": 65,
   "metadata": {},
   "outputs": [
    {
     "name": "stdout",
     "output_type": "stream",
     "text": [
      "1\n",
      "2\n",
      "3\n",
      "4\n",
      "5\n"
     ]
    },
    {
     "data": {
      "text/html": [
       "<div>\n",
       "<style scoped>\n",
       "    .dataframe tbody tr th:only-of-type {\n",
       "        vertical-align: middle;\n",
       "    }\n",
       "\n",
       "    .dataframe tbody tr th {\n",
       "        vertical-align: top;\n",
       "    }\n",
       "\n",
       "    .dataframe thead th {\n",
       "        text-align: right;\n",
       "    }\n",
       "</style>\n",
       "<table border=\"1\" class=\"dataframe\">\n",
       "  <thead>\n",
       "    <tr style=\"text-align: right;\">\n",
       "      <th></th>\n",
       "      <th>Algorithm</th>\n",
       "      <th>Mean ROC-AUC</th>\n",
       "      <th>S.D. AUC-ROC</th>\n",
       "      <th>Mean Accuracy</th>\n",
       "      <th>S.D. Accuracy</th>\n",
       "    </tr>\n",
       "  </thead>\n",
       "  <tbody>\n",
       "    <tr>\n",
       "      <th>4</th>\n",
       "      <td>XGBoost classifier</td>\n",
       "      <td>0.783103</td>\n",
       "      <td>0.008791</td>\n",
       "      <td>0.897723</td>\n",
       "      <td>0.001716</td>\n",
       "    </tr>\n",
       "    <tr>\n",
       "      <th>0</th>\n",
       "      <td>Logistic regression</td>\n",
       "      <td>0.778563</td>\n",
       "      <td>0.005018</td>\n",
       "      <td>0.899605</td>\n",
       "      <td>0.001360</td>\n",
       "    </tr>\n",
       "    <tr>\n",
       "      <th>3</th>\n",
       "      <td>Random forest</td>\n",
       "      <td>0.769119</td>\n",
       "      <td>0.004753</td>\n",
       "      <td>0.892350</td>\n",
       "      <td>0.001311</td>\n",
       "    </tr>\n",
       "    <tr>\n",
       "      <th>1</th>\n",
       "      <td>k-Nearest neighbor</td>\n",
       "      <td>0.725394</td>\n",
       "      <td>0.004297</td>\n",
       "      <td>0.888646</td>\n",
       "      <td>0.001209</td>\n",
       "    </tr>\n",
       "    <tr>\n",
       "      <th>2</th>\n",
       "      <td>Decision tree</td>\n",
       "      <td>0.619935</td>\n",
       "      <td>0.008966</td>\n",
       "      <td>0.835580</td>\n",
       "      <td>0.001297</td>\n",
       "    </tr>\n",
       "  </tbody>\n",
       "</table>\n",
       "</div>"
      ],
      "text/plain": [
       "             Algorithm  Mean ROC-AUC  S.D. AUC-ROC  Mean Accuracy  \\\n",
       "4   XGBoost classifier      0.783103      0.008791       0.897723   \n",
       "0  Logistic regression      0.778563      0.005018       0.899605   \n",
       "3        Random forest      0.769119      0.004753       0.892350   \n",
       "1   k-Nearest neighbor      0.725394      0.004297       0.888646   \n",
       "2        Decision tree      0.619935      0.008966       0.835580   \n",
       "\n",
       "   S.D. Accuracy  \n",
       "4       0.001716  \n",
       "0       0.001360  \n",
       "3       0.001311  \n",
       "1       0.001209  \n",
       "2       0.001297  "
      ]
     },
     "execution_count": 65,
     "metadata": {},
     "output_type": "execute_result"
    }
   ],
   "source": [
    "# Make a dataframe to store classification metrics\n",
    "col = ['Algorithm', 'Mean ROC-AUC', 'S.D. AUC-ROC', 'Mean Accuracy', 'S.D. Accuracy']\n",
    "df_results = pd.DataFrame(columns=col)\n",
    "auc_results = []\n",
    "acc_results = []\n",
    "i = 0\n",
    "\n",
    "# Fit the models one by one\n",
    "for name, model in models:\n",
    "    kfold = KFold(n_splits=5, shuffle=True, random_state=10)  # 5-fold cross-validation\n",
    "    cv_auc_results = cross_val_score(model, x_train, y_train, cv=5, scoring='roc_auc')\n",
    "    auc_results.append(cv_auc_results)\n",
    "    cv_acc_results = cross_val_score(model, x_train, y_train, cv=5, scoring='accuracy')\n",
    "    acc_results.append(cv_acc_results)\n",
    "    df_results.loc[i] = [name,\n",
    "                         cv_auc_results.mean(),\n",
    "                         cv_auc_results.std(),\n",
    "                         cv_acc_results.mean(),\n",
    "                         cv_acc_results.std()\n",
    "                         ]\n",
    "    i += 1\n",
    "    print(i)\n",
    "df_results.sort_values(by=['Mean ROC-AUC'], ascending=False)"
   ]
  },
  {
   "cell_type": "code",
   "execution_count": 66,
   "metadata": {},
   "outputs": [
    {
     "data": {
      "image/png": "[encoded data removed]",
      "text/plain": [
       "<Figure size 1080x504 with 1 Axes>"
      ]
     },
     "metadata": {
      "needs_background": "light"
     },
     "output_type": "display_data"
    }
   ],
   "source": [
    "fig = plt.figure(figsize=(15, 7))\n",
    "fig.suptitle('Comparison of ROC-AUC scores for different algorithms')\n",
    "ax = fig.add_subplot(111)\n",
    "plt.boxplot(auc_results)\n",
    "ax.set_xticklabels(df_results['Algorithm'])\n",
    "plt.show()"
   ]
  },
  {
   "cell_type": "markdown",
   "metadata": {},
   "source": []
  },
  {
   "cell_type": "markdown",
   "metadata": {},
   "source": [
    "So although the classification accuracies for all the models except decision tree are more or less similar, it is not the right indicator because of the class imbalance. Going by the ROC-AUC score, which quantifies a classifier's ability to differentiate between the classes, gradient boosting classifier and logistic regression are better baseline models."
   ]
  },
  {
   "cell_type": "markdown",
   "metadata": {},
   "source": [
    "### Grid search and hyper-parameter tuning <a name=\"grid_search\"></a>"
   ]
  },
  {
   "cell_type": "markdown",
   "metadata": {},
   "source": [
    "**Logistic regression** <a name=\"grid_logistic1\"></a>"
   ]
  },
  {
   "cell_type": "code",
   "execution_count": 67,
   "metadata": {},
   "outputs": [],
   "source": [
    "logistic = LogisticRegression(max_iter=1000)\n",
    "C = np.logspace(-2, 4, 10)\n",
    "class_weight = ['None', 'balanced']\n",
    "hyperparameters = dict(C=C, class_weight=class_weight)\n",
    "clf = GridSearchCV(logistic, hyperparameters, cv=5, verbose=0)\n",
    "best_logistic = clf.fit(x_train, y_train)"
   ]
  },
  {
   "cell_type": "code",
   "execution_count": 68,
   "metadata": {},
   "outputs": [
    {
     "name": "stdout",
     "output_type": "stream",
     "text": [
      "Best Penalty: l2\n",
      "Best C: 0.21544346900318834\n",
      "Best Class Weight: None\n"
     ]
    }
   ],
   "source": [
    "print('Best Penalty:', best_logistic.best_estimator_.get_params()['penalty'])\n",
    "print('Best C:', best_logistic.best_estimator_.get_params()['C'])\n",
    "print('Best Class Weight:', best_logistic.best_estimator_.get_params()['class_weight'])"
   ]
  },
  {
   "cell_type": "code",
   "execution_count": 72,
   "metadata": {},
   "outputs": [
    {
     "name": "stdout",
     "output_type": "stream",
     "text": [
      "Best case ROC-AUC score for logistic regression model is 0.7785621925000241\n"
     ]
    }
   ],
   "source": [
    "cv_auc_results = cross_val_score(best_logistic.best_estimator_, x_train, y_train, cv=5, scoring='roc_auc')\n",
    "print(f'Best case ROC-AUC score for logistic regression model is {cv_auc_results.mean()}')"
   ]
  },
  {
   "cell_type": "code",
   "execution_count": 80,
   "metadata": {},
   "outputs": [
    {
     "data": {
      "text/plain": [
       "0.7899869563114584"
      ]
     },
     "execution_count": 80,
     "metadata": {},
     "output_type": "execute_result"
    }
   ],
   "source": [
    "y_test_pred = best_logistic.best_estimator_.predict_proba(x_test)\n",
    "roc_auc = roc_auc_score(y_test, y_test_pred[:, 1])\n",
    "roc_auc"
   ]
  },
  {
   "cell_type": "markdown",
   "metadata": {},
   "source": [
    "**XGBoost classifier** <a name=\"grid_xgboost1\"></a>"
   ]
  },
  {
   "cell_type": "code",
   "execution_count": 74,
   "metadata": {},
   "outputs": [],
   "source": [
    "xgboost = XGBClassifier()\n",
    "learning_rate = [0.05, 0.1, 0.3]\n",
    "n_estimators = [100, 200, 500]\n",
    "max_depth = [3, 6]\n",
    "subsample = [0.5, 0.1]\n",
    "colsample_bytree = [0.5, 1]\n",
    "hyperparameters = dict(learning_rate=learning_rate, n_estimators=n_estimators, max_depth=max_depth, subsample=subsample, colsample_bytree=colsample_bytree)\n",
    "clf = GridSearchCV(xgboost, hyperparameters, cv=5, verbose=0)\n",
    "best_xgboost = clf.fit(x_train, y_train)"
   ]
  },
  {
   "cell_type": "code",
   "execution_count": 75,
   "metadata": {},
   "outputs": [
    {
     "name": "stdout",
     "output_type": "stream",
     "text": [
      "Best learning rate: 0.05\n",
      "Best number of estimators: 500\n",
      "Best maximum depth: 3\n",
      "Best subsample: 0.5\n",
      "Best colsample by tree: 0.5\n"
     ]
    }
   ],
   "source": [
    "print('Best learning rate:', best_xgboost.best_estimator_.get_params()['learning_rate'])\n",
    "print('Best number of estimators:', best_xgboost.best_estimator_.get_params()['n_estimators'])\n",
    "print('Best maximum depth:', best_xgboost.best_estimator_.get_params()['max_depth'])\n",
    "print('Best subsample:', best_xgboost.best_estimator_.get_params()['subsample'])\n",
    "print('Best colsample by tree:', best_xgboost.best_estimator_.get_params()['colsample_bytree'])"
   ]
  },
  {
   "cell_type": "code",
   "execution_count": 76,
   "metadata": {},
   "outputs": [
    {
     "name": "stdout",
     "output_type": "stream",
     "text": [
      "Best case ROC-AUC score for XGBoost classifier is 0.8002949232083001\n"
     ]
    }
   ],
   "source": [
    "cv_auc_results = cross_val_score(best_xgboost.best_estimator_, x_train, y_train, cv=5, scoring='roc_auc')\n",
    "print(f'Best case ROC-AUC score for XGBoost classifier is {cv_auc_results.mean()}')"
   ]
  },
  {
   "cell_type": "code",
   "execution_count": 79,
   "metadata": {},
   "outputs": [
    {
     "data": {
      "text/plain": [
       "0.8099481054064512"
      ]
     },
     "execution_count": 79,
     "metadata": {},
     "output_type": "execute_result"
    }
   ],
   "source": [
    "y_test_pred = best_xgboost.best_estimator_.predict_proba(x_test)\n",
    "roc_auc = roc_auc_score(y_test, y_test_pred[:, 1])\n",
    "roc_auc"
   ]
  },
  {
   "cell_type": "markdown",
   "metadata": {},
   "source": [
    "## Building classifiers using a subset of features <a name=\"subset_features\"></a>"
   ]
  },
  {
   "cell_type": "markdown",
   "metadata": {},
   "source": [
    "### Feature selection using Recursive Feature Elimination <a name=\"rfe\"></a>"
   ]
  },
  {
   "cell_type": "markdown",
   "metadata": {},
   "source": [
    "Let us use RFE to select the top features using random forest classifier and see if using a subset of features can improve classification performance over the baseline for the two most promising candidate algorithms: logistic regression and XGBoost."
   ]
  },
  {
   "cell_type": "markdown",
   "metadata": {},
   "source": [
    "### Baseline algorithms <a name=\"rfe_baseline\"></a>"
   ]
  },
  {
   "cell_type": "code",
   "execution_count": 81,
   "metadata": {},
   "outputs": [
    {
     "data": {
      "text/plain": [
       "Index(['age', 'month', 'day_of_week', 'campaign', 'cons.conf.idx', 'euribor3m',\n",
       "       'nr.employed', 'education_university.degree', 'housing_yes',\n",
       "       'poutcome_success'],\n",
       "      dtype='object')"
      ]
     },
     "execution_count": 81,
     "metadata": {},
     "output_type": "execute_result"
    }
   ],
   "source": [
    "estimator = RandomForestClassifier(random_state=1)\n",
    "selector = RFE(estimator, n_features_to_select=10, step=1)\n",
    "selector = selector.fit(x_train, y_train)\n",
    "subset_columns = x_train.columns[selector.support_]\n",
    "subset_columns "
   ]
  },
  {
   "cell_type": "code",
   "execution_count": 82,
   "metadata": {},
   "outputs": [
    {
     "data": {
      "text/html": [
       "<div>\n",
       "<style scoped>\n",
       "    .dataframe tbody tr th:only-of-type {\n",
       "        vertical-align: middle;\n",
       "    }\n",
       "\n",
       "    .dataframe tbody tr th {\n",
       "        vertical-align: top;\n",
       "    }\n",
       "\n",
       "    .dataframe thead th {\n",
       "        text-align: right;\n",
       "    }\n",
       "</style>\n",
       "<table border=\"1\" class=\"dataframe\">\n",
       "  <thead>\n",
       "    <tr style=\"text-align: right;\">\n",
       "      <th></th>\n",
       "      <th>age</th>\n",
       "      <th>month</th>\n",
       "      <th>day_of_week</th>\n",
       "      <th>campaign</th>\n",
       "      <th>cons.conf.idx</th>\n",
       "      <th>euribor3m</th>\n",
       "      <th>nr.employed</th>\n",
       "      <th>education_university.degree</th>\n",
       "      <th>housing_yes</th>\n",
       "      <th>poutcome_success</th>\n",
       "    </tr>\n",
       "  </thead>\n",
       "  <tbody>\n",
       "    <tr>\n",
       "      <th>0</th>\n",
       "      <td>-1.459752</td>\n",
       "      <td>6</td>\n",
       "      <td>2</td>\n",
       "      <td>-0.194960</td>\n",
       "      <td>-0.038829</td>\n",
       "      <td>-1.365439</td>\n",
       "      <td>-1.339174</td>\n",
       "      <td>0</td>\n",
       "      <td>0</td>\n",
       "      <td>0</td>\n",
       "    </tr>\n",
       "    <tr>\n",
       "      <th>1</th>\n",
       "      <td>-0.825202</td>\n",
       "      <td>5</td>\n",
       "      <td>4</td>\n",
       "      <td>-0.782785</td>\n",
       "      <td>1.011223</td>\n",
       "      <td>0.713119</td>\n",
       "      <td>0.328570</td>\n",
       "      <td>0</td>\n",
       "      <td>0</td>\n",
       "      <td>0</td>\n",
       "    </tr>\n",
       "    <tr>\n",
       "      <th>2</th>\n",
       "      <td>-0.719443</td>\n",
       "      <td>11</td>\n",
       "      <td>4</td>\n",
       "      <td>-0.782785</td>\n",
       "      <td>-0.325207</td>\n",
       "      <td>0.360232</td>\n",
       "      <td>0.398301</td>\n",
       "      <td>1</td>\n",
       "      <td>0</td>\n",
       "      <td>0</td>\n",
       "    </tr>\n",
       "    <tr>\n",
       "      <th>3</th>\n",
       "      <td>-0.190651</td>\n",
       "      <td>7</td>\n",
       "      <td>5</td>\n",
       "      <td>0.980690</td>\n",
       "      <td>-0.492261</td>\n",
       "      <td>0.772126</td>\n",
       "      <td>0.867536</td>\n",
       "      <td>0</td>\n",
       "      <td>0</td>\n",
       "      <td>0</td>\n",
       "    </tr>\n",
       "    <tr>\n",
       "      <th>4</th>\n",
       "      <td>-0.084893</td>\n",
       "      <td>7</td>\n",
       "      <td>2</td>\n",
       "      <td>0.980690</td>\n",
       "      <td>-0.492261</td>\n",
       "      <td>0.774440</td>\n",
       "      <td>0.867536</td>\n",
       "      <td>0</td>\n",
       "      <td>1</td>\n",
       "      <td>0</td>\n",
       "    </tr>\n",
       "  </tbody>\n",
       "</table>\n",
       "</div>"
      ],
      "text/plain": [
       "        age  month  day_of_week  campaign  cons.conf.idx  euribor3m  \\\n",
       "0 -1.459752      6            2 -0.194960      -0.038829  -1.365439   \n",
       "1 -0.825202      5            4 -0.782785       1.011223   0.713119   \n",
       "2 -0.719443     11            4 -0.782785      -0.325207   0.360232   \n",
       "3 -0.190651      7            5  0.980690      -0.492261   0.772126   \n",
       "4 -0.084893      7            2  0.980690      -0.492261   0.774440   \n",
       "\n",
       "   nr.employed  education_university.degree  housing_yes  poutcome_success  \n",
       "0    -1.339174                            0            0                 0  \n",
       "1     0.328570                            0            0                 0  \n",
       "2     0.398301                            1            0                 0  \n",
       "3     0.867536                            0            0                 0  \n",
       "4     0.867536                            0            1                 0  "
      ]
     },
     "execution_count": 82,
     "metadata": {},
     "output_type": "execute_result"
    }
   ],
   "source": [
    "x_train_subset = x_train[subset_columns]\n",
    "x_test_subset = x_test[subset_columns]\n",
    "x_train_subset.head()"
   ]
  },
  {
   "cell_type": "code",
   "execution_count": 84,
   "metadata": {},
   "outputs": [
    {
     "name": "stdout",
     "output_type": "stream",
     "text": [
      "1\n",
      "2\n"
     ]
    },
    {
     "data": {
      "text/html": [
       "<div>\n",
       "<style scoped>\n",
       "    .dataframe tbody tr th:only-of-type {\n",
       "        vertical-align: middle;\n",
       "    }\n",
       "\n",
       "    .dataframe tbody tr th {\n",
       "        vertical-align: top;\n",
       "    }\n",
       "\n",
       "    .dataframe thead th {\n",
       "        text-align: right;\n",
       "    }\n",
       "</style>\n",
       "<table border=\"1\" class=\"dataframe\">\n",
       "  <thead>\n",
       "    <tr style=\"text-align: right;\">\n",
       "      <th></th>\n",
       "      <th>Algorithm</th>\n",
       "      <th>Mean ROC-AUC</th>\n",
       "      <th>S.D. AUC-ROC</th>\n",
       "      <th>Mean Accuracy</th>\n",
       "      <th>S.D. Accuracy</th>\n",
       "    </tr>\n",
       "  </thead>\n",
       "  <tbody>\n",
       "    <tr>\n",
       "      <th>1</th>\n",
       "      <td>XGBoost classifier</td>\n",
       "      <td>0.780395</td>\n",
       "      <td>0.008018</td>\n",
       "      <td>0.896752</td>\n",
       "      <td>0.002376</td>\n",
       "    </tr>\n",
       "    <tr>\n",
       "      <th>0</th>\n",
       "      <td>Logistic regression</td>\n",
       "      <td>0.757354</td>\n",
       "      <td>0.006924</td>\n",
       "      <td>0.899484</td>\n",
       "      <td>0.001208</td>\n",
       "    </tr>\n",
       "  </tbody>\n",
       "</table>\n",
       "</div>"
      ],
      "text/plain": [
       "             Algorithm  Mean ROC-AUC  S.D. AUC-ROC  Mean Accuracy  \\\n",
       "1   XGBoost classifier      0.780395      0.008018       0.896752   \n",
       "0  Logistic regression      0.757354      0.006924       0.899484   \n",
       "\n",
       "   S.D. Accuracy  \n",
       "1       0.002376  \n",
       "0       0.001208  "
      ]
     },
     "execution_count": 84,
     "metadata": {},
     "output_type": "execute_result"
    }
   ],
   "source": [
    "models = []\n",
    "models.append(('Logistic regression', LogisticRegression(max_iter=500)))\n",
    "models.append(('XGBoost classifier', XGBClassifier()))\n",
    "\n",
    "df_subset_results = pd.DataFrame(columns=col)\n",
    "auc_results = []\n",
    "acc_results = []\n",
    "i = 0\n",
    "\n",
    "for name, model in models:\n",
    "    kfold = KFold(n_splits=5, shuffle=True, random_state=10)  # 5-fold cross-validation\n",
    "    cv_auc_results = cross_val_score(model, x_train_subset, y_train, cv=5, scoring='roc_auc')\n",
    "    auc_results.append(cv_auc_results)\n",
    "    cv_acc_results = cross_val_score(model, x_train_subset, y_train, cv=5, scoring='accuracy')\n",
    "    acc_results.append(cv_acc_results)\n",
    "    df_subset_results.loc[i] = [name,\n",
    "                         cv_auc_results.mean(),\n",
    "                         cv_auc_results.std(),\n",
    "                         cv_acc_results.mean(),\n",
    "                         cv_acc_results.std()\n",
    "                         ]\n",
    "    i += 1\n",
    "    print(i)\n",
    "df_subset_results.sort_values(by=['Mean ROC-AUC'], ascending=False)"
   ]
  },
  {
   "cell_type": "markdown",
   "metadata": {},
   "source": [
    "Although the performance of logistic regression deteriorates a little, XGBoost performs almost as well with only 10 features. Sweet!"
   ]
  },
  {
   "cell_type": "markdown",
   "metadata": {},
   "source": [
    "### XGBoost Grid search using selected features <a name=\"rfe_xgboost\"></a>"
   ]
  },
  {
   "cell_type": "code",
   "execution_count": 85,
   "metadata": {},
   "outputs": [],
   "source": [
    "xgboost = XGBClassifier()\n",
    "learning_rate = [0.05, 0.1, 0.3]\n",
    "n_estimators = [100, 200, 500]\n",
    "max_depth = [3, 6]\n",
    "subsample = [0.5, 0.1]\n",
    "colsample_bytree = [0.5, 1]\n",
    "hyperparameters = dict(learning_rate=learning_rate, n_estimators=n_estimators, max_depth=max_depth, subsample=subsample, colsample_bytree=colsample_bytree)\n",
    "clf = GridSearchCV(xgboost, hyperparameters, cv=5, verbose=0)\n",
    "best_xgboost_subset = clf.fit(x_train_subset, y_train)"
   ]
  },
  {
   "cell_type": "code",
   "execution_count": 86,
   "metadata": {},
   "outputs": [
    {
     "name": "stdout",
     "output_type": "stream",
     "text": [
      "Best learning rate: 0.05\n",
      "Best number of estimators: 500\n",
      "Best maximum depth: 3\n",
      "Best subsample: 0.5\n",
      "Best colsample by tree: 1\n"
     ]
    }
   ],
   "source": [
    "print('Best learning rate:', best_xgboost_subset.best_estimator_.get_params()['learning_rate'])\n",
    "print('Best number of estimators:', best_xgboost_subset.best_estimator_.get_params()['n_estimators'])\n",
    "print('Best maximum depth:', best_xgboost_subset.best_estimator_.get_params()['max_depth'])\n",
    "print('Best subsample:', best_xgboost_subset.best_estimator_.get_params()['subsample'])\n",
    "print('Best colsample by tree:', best_xgboost_subset.best_estimator_.get_params()['colsample_bytree'])"
   ]
  },
  {
   "cell_type": "code",
   "execution_count": 87,
   "metadata": {},
   "outputs": [
    {
     "name": "stdout",
     "output_type": "stream",
     "text": [
      "Best case ROC-AUC score for XGBoost classifier with 10 features is 0.7986802418146433\n"
     ]
    }
   ],
   "source": [
    "cv_auc_results = cross_val_score(best_xgboost_subset.best_estimator_, x_train_subset, y_train, cv=5, scoring='roc_auc')\n",
    "print(f'Best case ROC-AUC score for XGBoost classifier with 10 features is {cv_auc_results.mean()}')"
   ]
  },
  {
   "cell_type": "code",
   "execution_count": 89,
   "metadata": {},
   "outputs": [
    {
     "data": {
      "text/plain": [
       "0.8054826400685126"
      ]
     },
     "execution_count": 89,
     "metadata": {},
     "output_type": "execute_result"
    }
   ],
   "source": [
    "y_test_pred = best_xgboost_subset.best_estimator_.predict_proba(x_test_subset)\n",
    "roc_auc = roc_auc_score(y_test, y_test_pred[:, 1])\n",
    "roc_auc"
   ]
  },
  {
   "cell_type": "code",
   "execution_count": null,
   "metadata": {},
   "outputs": [],
   "source": []
  }
 ],
 "metadata": {
  "kernelspec": {
   "display_name": "Python 3",
   "language": "python",
   "name": "python3"
  },
  "language_info": {
   "codemirror_mode": {
    "name": "ipython",
    "version": 3
   },
   "file_extension": ".py",
   "mimetype": "text/x-python",
   "name": "python",
   "nbconvert_exporter": "python",
   "pygments_lexer": "ipython3",
   "version": "3.7.2"
  }
 },
 "nbformat": 4,
 "nbformat_minor": 2
}
