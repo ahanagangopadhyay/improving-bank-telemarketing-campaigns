{
 "cells": [
  {
   "cell_type": "markdown",
   "metadata": {},
   "source": [
    "# Business Problem \n",
    "\n",
    "A bank would like to increase their revenue by having more of their clients subscribe to long-term deposits. The bank aims to identify which of their existing clients have higher chances of subscribing to long-term deposits when they are contacted through a telemarketing campaign. This information would help the bank to improve their conversion rate (more customers subscribing to long-term deposits from of a fixed number of calls made) by:\n",
    "\n",
    "- Concentrating their telemarketing efforts on clients more likely to subscribe.\n",
    "- Planning details of future telemarketing campaigns that are more likely to succeed."
   ]
  },
  {
   "cell_type": "markdown",
   "metadata": {},
   "source": [
    "# Data Science Problem\n",
    "\n",
    "The bank marketing dataset contains historic data collected from direct telemarketing campaigns of a Portuguese retail bank to their clients to sell long-term deposits, along with outcomes for each client (success/failure). We can therefore train a machine learning model that takes this information as input features, and predict the binary outcome of whether a client will subscribe to the long-term deposit or not."
   ]
  },
  {
   "cell_type": "markdown",
   "metadata": {},
   "source": [
    "# Table of contents\n",
    "\n",
    "- [Dataset exploration](#dataset_exploration)\n",
    "    - [Import libraries](#import_libraries)\n",
    "    - [Load dataset](#load_dataset)\n",
    "    - [Feature descriptions](#feature_descriptions)\n",
    "    - [Target variable](#target_variables)\n",
    "    - [Check numerical and categorical features](#check_features)\n",
    "    - [Check class distribution in the target variable](#class_distribution)\n",
    "- [Data visualization](#data_viz)\n",
    "    - [Univariate analysis of categorical features](#univariate_categorical)\n",
    "    - [Observations](#observations1)\n",
    "    - [Bivariate analysis of categorical features](#bivariate_categorical)\n",
    "    - [Observations](#observations2)\n",
    "    - [Univariate analysis of numerical features](#univariate_numerical)\n",
    "    - [Observations](#observations3)\n",
    "- [Data preprocessing pipeline](#data_preprocessing)\n",
    "    - [Check for any missing data](#missing_data)\n",
    "    - [Drop duplicate rows](#drop_duplicates)\n",
    "    - [Preprocess categorical features](#preprocessing_categorical)\n",
    "        - [Impute unknown values from categorical columns](#impute_unknown)\n",
    "        - [Encode categorical variables and the target](#encoding_categorical)\n",
    "            - [One-hot encoding of nominal categorical features](#encoding_nominal)\n",
    "            - [Encoding of cyclic ordinal features](#encoding_ordinal)\n",
    "    - [Preprocess numerical features](#preprocessing_numerical)\n",
    "        - [Drop non-informative features](#drop_features)\n",
    "        - [Treat outliers in the numerical features](#treat_outliers)\n",
    "    - [Split dataset into train and test sets](#split_dataset)\n",
    "    - [Scale numerical features](#scale_numerical)\n",
    "- [Building machine learning models](#models)\n",
    "    - [Split data into features and labels](#split_data)\n",
    "    - [Building classifiers using all features](#all_features)\n",
    "        - [Baseline algorithms](#baseline_algorithms)\n",
    "        - [Grid search and hyper-parameter tuning](#grid_search)\n",
    "            - [Logistic regression](#grid_logistic1)\n",
    "            - [XGBoost classifier](#grid_xgboost1)\n",
    "    - [Building classifiers using a subset of features](#subset_features)\n",
    "        - [Feature selection using Recursive Feature Elimination](#rfe)\n",
    "        - [Baseline algorithms using selected features](#rfe_baseline)\n",
    "        - [XGBoost Grid search using selected features](#rfe_xgboost)\n",
    "- [Final results](#results)"
   ]
  },
  {
   "cell_type": "markdown",
   "metadata": {},
   "source": [
    "# Dataset exploration <a name=\"dataset_exploration\"></a>"
   ]
  },
  {
   "cell_type": "markdown",
   "metadata": {},
   "source": [
    "## Import libraries <a name=\"import_libraries\"></a>"
   ]
  },
  {
   "cell_type": "code",
   "execution_count": 1,
   "metadata": {},
   "outputs": [],
   "source": [
    "import numpy as np\n",
    "import pandas as pd\n",
    "import matplotlib.pyplot as plt\n",
    "% matplotlib inline\n",
    "import seaborn as sns\n",
    "import warnings\n",
    "warnings.filterwarnings('ignore')\n",
    "from scipy.stats.mstats import winsorize\n",
    "from sklearn.preprocessing import LabelEncoder, OneHotEncoder\n",
    "from sklearn.model_selection import train_test_split\n",
    "from sklearn import preprocessing\n",
    "from sklearn.metrics import roc_auc_score, classification_report, roc_curve\n",
    "from sklearn.linear_model import LogisticRegression\n",
    "from sklearn.tree import DecisionTreeClassifier\n",
    "from sklearn.ensemble import RandomForestClassifier\n",
    "from xgboost import XGBClassifier \n",
    "from sklearn.neighbors import KNeighborsClassifier\n",
    "from sklearn.neural_network import MLPClassifier\n",
    "from sklearn.model_selection import KFold\n",
    "from sklearn.model_selection import cross_val_score\n",
    "from sklearn.feature_selection import RFE\n",
    "from sklearn.model_selection import RepeatedStratifiedKFold\n",
    "from sklearn.model_selection import cross_val_score\n",
    "from sklearn.model_selection import GridSearchCV\n",
    "from imblearn.pipeline import Pipeline "
   ]
  },
  {
   "cell_type": "markdown",
   "metadata": {},
   "source": [
    "## Load dataset <a name=\"load_dataset\"></a>"
   ]
  },
  {
   "cell_type": "code",
   "execution_count": 52,
   "metadata": {},
   "outputs": [
    {
     "data": {
      "text/html": [
       "<div>\n",
       "<style scoped>\n",
       "    .dataframe tbody tr th:only-of-type {\n",
       "        vertical-align: middle;\n",
       "    }\n",
       "\n",
       "    .dataframe tbody tr th {\n",
       "        vertical-align: top;\n",
       "    }\n",
       "\n",
       "    .dataframe thead th {\n",
       "        text-align: right;\n",
       "    }\n",
       "</style>\n",
       "<table border=\"1\" class=\"dataframe\">\n",
       "  <thead>\n",
       "    <tr style=\"text-align: right;\">\n",
       "      <th></th>\n",
       "      <th>age</th>\n",
       "      <th>job</th>\n",
       "      <th>marital</th>\n",
       "      <th>education</th>\n",
       "      <th>default</th>\n",
       "      <th>housing</th>\n",
       "      <th>loan</th>\n",
       "      <th>contact</th>\n",
       "      <th>month</th>\n",
       "      <th>day_of_week</th>\n",
       "      <th>...</th>\n",
       "      <th>campaign</th>\n",
       "      <th>pdays</th>\n",
       "      <th>previous</th>\n",
       "      <th>poutcome</th>\n",
       "      <th>emp.var.rate</th>\n",
       "      <th>cons.price.idx</th>\n",
       "      <th>cons.conf.idx</th>\n",
       "      <th>euribor3m</th>\n",
       "      <th>nr.employed</th>\n",
       "      <th>y</th>\n",
       "    </tr>\n",
       "  </thead>\n",
       "  <tbody>\n",
       "    <tr>\n",
       "      <th>0</th>\n",
       "      <td>56</td>\n",
       "      <td>housemaid</td>\n",
       "      <td>married</td>\n",
       "      <td>basic.4y</td>\n",
       "      <td>no</td>\n",
       "      <td>no</td>\n",
       "      <td>no</td>\n",
       "      <td>telephone</td>\n",
       "      <td>may</td>\n",
       "      <td>mon</td>\n",
       "      <td>...</td>\n",
       "      <td>1</td>\n",
       "      <td>999</td>\n",
       "      <td>0</td>\n",
       "      <td>nonexistent</td>\n",
       "      <td>1.1</td>\n",
       "      <td>93.994</td>\n",
       "      <td>-36.4</td>\n",
       "      <td>4.857</td>\n",
       "      <td>5191.0</td>\n",
       "      <td>no</td>\n",
       "    </tr>\n",
       "    <tr>\n",
       "      <th>1</th>\n",
       "      <td>57</td>\n",
       "      <td>services</td>\n",
       "      <td>married</td>\n",
       "      <td>high.school</td>\n",
       "      <td>unknown</td>\n",
       "      <td>no</td>\n",
       "      <td>no</td>\n",
       "      <td>telephone</td>\n",
       "      <td>may</td>\n",
       "      <td>mon</td>\n",
       "      <td>...</td>\n",
       "      <td>1</td>\n",
       "      <td>999</td>\n",
       "      <td>0</td>\n",
       "      <td>nonexistent</td>\n",
       "      <td>1.1</td>\n",
       "      <td>93.994</td>\n",
       "      <td>-36.4</td>\n",
       "      <td>4.857</td>\n",
       "      <td>5191.0</td>\n",
       "      <td>no</td>\n",
       "    </tr>\n",
       "    <tr>\n",
       "      <th>2</th>\n",
       "      <td>37</td>\n",
       "      <td>services</td>\n",
       "      <td>married</td>\n",
       "      <td>high.school</td>\n",
       "      <td>no</td>\n",
       "      <td>yes</td>\n",
       "      <td>no</td>\n",
       "      <td>telephone</td>\n",
       "      <td>may</td>\n",
       "      <td>mon</td>\n",
       "      <td>...</td>\n",
       "      <td>1</td>\n",
       "      <td>999</td>\n",
       "      <td>0</td>\n",
       "      <td>nonexistent</td>\n",
       "      <td>1.1</td>\n",
       "      <td>93.994</td>\n",
       "      <td>-36.4</td>\n",
       "      <td>4.857</td>\n",
       "      <td>5191.0</td>\n",
       "      <td>no</td>\n",
       "    </tr>\n",
       "    <tr>\n",
       "      <th>3</th>\n",
       "      <td>40</td>\n",
       "      <td>admin.</td>\n",
       "      <td>married</td>\n",
       "      <td>basic.6y</td>\n",
       "      <td>no</td>\n",
       "      <td>no</td>\n",
       "      <td>no</td>\n",
       "      <td>telephone</td>\n",
       "      <td>may</td>\n",
       "      <td>mon</td>\n",
       "      <td>...</td>\n",
       "      <td>1</td>\n",
       "      <td>999</td>\n",
       "      <td>0</td>\n",
       "      <td>nonexistent</td>\n",
       "      <td>1.1</td>\n",
       "      <td>93.994</td>\n",
       "      <td>-36.4</td>\n",
       "      <td>4.857</td>\n",
       "      <td>5191.0</td>\n",
       "      <td>no</td>\n",
       "    </tr>\n",
       "    <tr>\n",
       "      <th>4</th>\n",
       "      <td>56</td>\n",
       "      <td>services</td>\n",
       "      <td>married</td>\n",
       "      <td>high.school</td>\n",
       "      <td>no</td>\n",
       "      <td>no</td>\n",
       "      <td>yes</td>\n",
       "      <td>telephone</td>\n",
       "      <td>may</td>\n",
       "      <td>mon</td>\n",
       "      <td>...</td>\n",
       "      <td>1</td>\n",
       "      <td>999</td>\n",
       "      <td>0</td>\n",
       "      <td>nonexistent</td>\n",
       "      <td>1.1</td>\n",
       "      <td>93.994</td>\n",
       "      <td>-36.4</td>\n",
       "      <td>4.857</td>\n",
       "      <td>5191.0</td>\n",
       "      <td>no</td>\n",
       "    </tr>\n",
       "  </tbody>\n",
       "</table>\n",
       "<p>5 rows × 21 columns</p>\n",
       "</div>"
      ],
      "text/plain": [
       "   age        job  marital    education  default housing loan    contact  \\\n",
       "0   56  housemaid  married     basic.4y       no      no   no  telephone   \n",
       "1   57   services  married  high.school  unknown      no   no  telephone   \n",
       "2   37   services  married  high.school       no     yes   no  telephone   \n",
       "3   40     admin.  married     basic.6y       no      no   no  telephone   \n",
       "4   56   services  married  high.school       no      no  yes  telephone   \n",
       "\n",
       "  month day_of_week  ...  campaign  pdays  previous     poutcome emp.var.rate  \\\n",
       "0   may         mon  ...         1    999         0  nonexistent          1.1   \n",
       "1   may         mon  ...         1    999         0  nonexistent          1.1   \n",
       "2   may         mon  ...         1    999         0  nonexistent          1.1   \n",
       "3   may         mon  ...         1    999         0  nonexistent          1.1   \n",
       "4   may         mon  ...         1    999         0  nonexistent          1.1   \n",
       "\n",
       "   cons.price.idx  cons.conf.idx  euribor3m  nr.employed   y  \n",
       "0          93.994          -36.4      4.857       5191.0  no  \n",
       "1          93.994          -36.4      4.857       5191.0  no  \n",
       "2          93.994          -36.4      4.857       5191.0  no  \n",
       "3          93.994          -36.4      4.857       5191.0  no  \n",
       "4          93.994          -36.4      4.857       5191.0  no  \n",
       "\n",
       "[5 rows x 21 columns]"
      ]
     },
     "execution_count": 52,
     "metadata": {},
     "output_type": "execute_result"
    }
   ],
   "source": [
    "path = '../data/bank-additional-full.csv'\n",
    "df = pd.read_csv(path,delimiter=';')\n",
    "df.head()"
   ]
  },
  {
   "cell_type": "code",
   "execution_count": 53,
   "metadata": {},
   "outputs": [
    {
     "name": "stdout",
     "output_type": "stream",
     "text": [
      "The dataset has 41188 records from past telemarketing campaigns.\n",
      "Each record has 20 features and the last column in the dataframe indicates the outcome of the campaign (subscribed or not subscribed).\n"
     ]
    }
   ],
   "source": [
    "print(f'The dataset has {len(df)} records from past telemarketing campaigns.')\n",
    "print(f'Each record has {df.shape[1]-1} features and the last column in the dataframe indicates the outcome of the campaign (subscribed or not subscribed).')"
   ]
  },
  {
   "cell_type": "markdown",
   "metadata": {},
   "source": [
    "## Feature descriptions <a name=\"feature_descriptions\"></a>"
   ]
  },
  {
   "cell_type": "markdown",
   "metadata": {},
   "source": [
    "|Feature|Feature Type|Description|\n",
    "|-----|-----|-----|\n",
    "|age|Numeric|Age of the client|\n",
    "|job|Categorical, Nominal|Job held by the client ('admin.', 'blue-collar', 'entrepreneur', 'housemaid', 'management','retired', 'self-employed', 'services', 'student', 'technician', 'unemployed', 'unknown')|\n",
    "|marital|Categorical, Nominal|Marital status of the client ('divorced', 'married', 'single', 'unknown'; note: 'divorced' includes divorced and widowed)|\n",
    "|education|Categorical, Nominal|Educational qualification of the client ('basic.4y', 'basic.6y', 'basic.9y', 'high.school', 'illiterate', 'professional.course', 'university.degree', 'unknown')|\n",
    "|default|Categorical, Nominal|Does client have credit in default? ('no', 'yes', 'unknown')|\n",
    "|housing|Categorical, Nominal|Does client have a housing loan? ('no', 'yes', 'unknown')|\n",
    "|loan|Categorical, Nominal|Does client have a personal loan? ('no', 'yes', 'unknown')|\n",
    "|contact|Categorical, Nominal|How was the client contacted ('telephone', 'cellular')|\n",
    "|month|Categorical, Ordinal|Month of year of last contact ('jan', 'feb', 'mar', ..., 'nov', 'dec)|\n",
    "|day_of_week|Categorical, Ordinal|Day of week of last contact ('mon', 'tue', 'wed', 'thu', 'fri')|\n",
    "|duration|Numeric|Duration in seconds of last contact|\n",
    "|campaign|Numeric|Number of times the client was contacted during this campaign (includes last contact)|\n",
    "|pdays|Numerical|Number of days since the client was last contacted for a previous campaign; 999 means client was not contacted previously|\n",
    "|previous|Numeric|Number of times client was contacted before this campaign|\n",
    "|poutcome|Categorical, Nominal|Outcome of the previous marketing campaign (failure', 'nonexistent', 'success')|\n",
    "|emp.var.rate|Numeric|Employment variation rate, quarterly indicator|\n",
    "|cons.price.idx|Numeric|Consumer price index, monthly indicator|\n",
    "|cons.conf.idx|Numeric|Consumer confidence index, monthly indicator|\n",
    "|euribor3m|Numeric|Euribor 3 month rate, monthly indicator|\n",
    "|nr.employed|Numeric|Number of employees, quarterly indicator|"
   ]
  },
  {
   "cell_type": "markdown",
   "metadata": {},
   "source": [
    "So, the features can be broadly divided into the following 3 categories:\n",
    "\n",
    "- **Client data:** Features related to the client, e.g. age, job, marital status, education, default status, housing and personal loan status.\n",
    "- **Campaign data:** Features related to the current and previous campaigns, e.g. communication type, month and day of week of last contact, duration of last contact, number of contacts during current campaign, number of days since last contact for a previous campaign, number of contacts before current campaign and outcome of previous campaign.\n",
    "- **Economy data:** Features related to the economic attributes, e.g.employment variation rate, consumer price index, consumer confidence index, euribor 3 month rate and number of employees."
   ]
  },
  {
   "cell_type": "markdown",
   "metadata": {},
   "source": [
    "## Target variable <a name=\"target_variable\"></a>"
   ]
  },
  {
   "cell_type": "markdown",
   "metadata": {},
   "source": [
    "|Target|Type|Description|\n",
    "|-----|-----|-----|\n",
    "|y|Binary|Has the client subscribed to a long-term deposit? ('yes', 'no')|"
   ]
  },
  {
   "cell_type": "markdown",
   "metadata": {},
   "source": [
    "## Check numerical and categorical features <a name=\"check_features\"></a>"
   ]
  },
  {
   "cell_type": "code",
   "execution_count": 54,
   "metadata": {},
   "outputs": [
    {
     "name": "stdout",
     "output_type": "stream",
     "text": [
      "The numerical features are:\n"
     ]
    },
    {
     "data": {
      "text/html": [
       "<div>\n",
       "<style scoped>\n",
       "    .dataframe tbody tr th:only-of-type {\n",
       "        vertical-align: middle;\n",
       "    }\n",
       "\n",
       "    .dataframe tbody tr th {\n",
       "        vertical-align: top;\n",
       "    }\n",
       "\n",
       "    .dataframe thead th {\n",
       "        text-align: right;\n",
       "    }\n",
       "</style>\n",
       "<table border=\"1\" class=\"dataframe\">\n",
       "  <thead>\n",
       "    <tr style=\"text-align: right;\">\n",
       "      <th></th>\n",
       "      <th>age</th>\n",
       "      <th>duration</th>\n",
       "      <th>campaign</th>\n",
       "      <th>pdays</th>\n",
       "      <th>previous</th>\n",
       "      <th>emp.var.rate</th>\n",
       "      <th>cons.price.idx</th>\n",
       "      <th>cons.conf.idx</th>\n",
       "      <th>euribor3m</th>\n",
       "      <th>nr.employed</th>\n",
       "    </tr>\n",
       "  </thead>\n",
       "  <tbody>\n",
       "    <tr>\n",
       "      <th>0</th>\n",
       "      <td>56</td>\n",
       "      <td>261</td>\n",
       "      <td>1</td>\n",
       "      <td>999</td>\n",
       "      <td>0</td>\n",
       "      <td>1.1</td>\n",
       "      <td>93.994</td>\n",
       "      <td>-36.4</td>\n",
       "      <td>4.857</td>\n",
       "      <td>5191.0</td>\n",
       "    </tr>\n",
       "    <tr>\n",
       "      <th>1</th>\n",
       "      <td>57</td>\n",
       "      <td>149</td>\n",
       "      <td>1</td>\n",
       "      <td>999</td>\n",
       "      <td>0</td>\n",
       "      <td>1.1</td>\n",
       "      <td>93.994</td>\n",
       "      <td>-36.4</td>\n",
       "      <td>4.857</td>\n",
       "      <td>5191.0</td>\n",
       "    </tr>\n",
       "    <tr>\n",
       "      <th>2</th>\n",
       "      <td>37</td>\n",
       "      <td>226</td>\n",
       "      <td>1</td>\n",
       "      <td>999</td>\n",
       "      <td>0</td>\n",
       "      <td>1.1</td>\n",
       "      <td>93.994</td>\n",
       "      <td>-36.4</td>\n",
       "      <td>4.857</td>\n",
       "      <td>5191.0</td>\n",
       "    </tr>\n",
       "    <tr>\n",
       "      <th>3</th>\n",
       "      <td>40</td>\n",
       "      <td>151</td>\n",
       "      <td>1</td>\n",
       "      <td>999</td>\n",
       "      <td>0</td>\n",
       "      <td>1.1</td>\n",
       "      <td>93.994</td>\n",
       "      <td>-36.4</td>\n",
       "      <td>4.857</td>\n",
       "      <td>5191.0</td>\n",
       "    </tr>\n",
       "    <tr>\n",
       "      <th>4</th>\n",
       "      <td>56</td>\n",
       "      <td>307</td>\n",
       "      <td>1</td>\n",
       "      <td>999</td>\n",
       "      <td>0</td>\n",
       "      <td>1.1</td>\n",
       "      <td>93.994</td>\n",
       "      <td>-36.4</td>\n",
       "      <td>4.857</td>\n",
       "      <td>5191.0</td>\n",
       "    </tr>\n",
       "  </tbody>\n",
       "</table>\n",
       "</div>"
      ],
      "text/plain": [
       "   age  duration  campaign  pdays  previous  emp.var.rate  cons.price.idx  \\\n",
       "0   56       261         1    999         0           1.1          93.994   \n",
       "1   57       149         1    999         0           1.1          93.994   \n",
       "2   37       226         1    999         0           1.1          93.994   \n",
       "3   40       151         1    999         0           1.1          93.994   \n",
       "4   56       307         1    999         0           1.1          93.994   \n",
       "\n",
       "   cons.conf.idx  euribor3m  nr.employed  \n",
       "0          -36.4      4.857       5191.0  \n",
       "1          -36.4      4.857       5191.0  \n",
       "2          -36.4      4.857       5191.0  \n",
       "3          -36.4      4.857       5191.0  \n",
       "4          -36.4      4.857       5191.0  "
      ]
     },
     "execution_count": 54,
     "metadata": {},
     "output_type": "execute_result"
    }
   ],
   "source": [
    "numerical_columns = df.select_dtypes(include=np.number).columns.tolist()\n",
    "print('The numerical features are:')\n",
    "df[numerical_columns].head()"
   ]
  },
  {
   "cell_type": "code",
   "execution_count": 55,
   "metadata": {},
   "outputs": [
    {
     "name": "stdout",
     "output_type": "stream",
     "text": [
      "The categorical features are:\n"
     ]
    },
    {
     "data": {
      "text/html": [
       "<div>\n",
       "<style scoped>\n",
       "    .dataframe tbody tr th:only-of-type {\n",
       "        vertical-align: middle;\n",
       "    }\n",
       "\n",
       "    .dataframe tbody tr th {\n",
       "        vertical-align: top;\n",
       "    }\n",
       "\n",
       "    .dataframe thead th {\n",
       "        text-align: right;\n",
       "    }\n",
       "</style>\n",
       "<table border=\"1\" class=\"dataframe\">\n",
       "  <thead>\n",
       "    <tr style=\"text-align: right;\">\n",
       "      <th></th>\n",
       "      <th>job</th>\n",
       "      <th>marital</th>\n",
       "      <th>education</th>\n",
       "      <th>default</th>\n",
       "      <th>housing</th>\n",
       "      <th>loan</th>\n",
       "      <th>contact</th>\n",
       "      <th>month</th>\n",
       "      <th>day_of_week</th>\n",
       "      <th>poutcome</th>\n",
       "    </tr>\n",
       "  </thead>\n",
       "  <tbody>\n",
       "    <tr>\n",
       "      <th>0</th>\n",
       "      <td>housemaid</td>\n",
       "      <td>married</td>\n",
       "      <td>basic.4y</td>\n",
       "      <td>no</td>\n",
       "      <td>no</td>\n",
       "      <td>no</td>\n",
       "      <td>telephone</td>\n",
       "      <td>may</td>\n",
       "      <td>mon</td>\n",
       "      <td>nonexistent</td>\n",
       "    </tr>\n",
       "    <tr>\n",
       "      <th>1</th>\n",
       "      <td>services</td>\n",
       "      <td>married</td>\n",
       "      <td>high.school</td>\n",
       "      <td>unknown</td>\n",
       "      <td>no</td>\n",
       "      <td>no</td>\n",
       "      <td>telephone</td>\n",
       "      <td>may</td>\n",
       "      <td>mon</td>\n",
       "      <td>nonexistent</td>\n",
       "    </tr>\n",
       "    <tr>\n",
       "      <th>2</th>\n",
       "      <td>services</td>\n",
       "      <td>married</td>\n",
       "      <td>high.school</td>\n",
       "      <td>no</td>\n",
       "      <td>yes</td>\n",
       "      <td>no</td>\n",
       "      <td>telephone</td>\n",
       "      <td>may</td>\n",
       "      <td>mon</td>\n",
       "      <td>nonexistent</td>\n",
       "    </tr>\n",
       "    <tr>\n",
       "      <th>3</th>\n",
       "      <td>admin.</td>\n",
       "      <td>married</td>\n",
       "      <td>basic.6y</td>\n",
       "      <td>no</td>\n",
       "      <td>no</td>\n",
       "      <td>no</td>\n",
       "      <td>telephone</td>\n",
       "      <td>may</td>\n",
       "      <td>mon</td>\n",
       "      <td>nonexistent</td>\n",
       "    </tr>\n",
       "    <tr>\n",
       "      <th>4</th>\n",
       "      <td>services</td>\n",
       "      <td>married</td>\n",
       "      <td>high.school</td>\n",
       "      <td>no</td>\n",
       "      <td>no</td>\n",
       "      <td>yes</td>\n",
       "      <td>telephone</td>\n",
       "      <td>may</td>\n",
       "      <td>mon</td>\n",
       "      <td>nonexistent</td>\n",
       "    </tr>\n",
       "  </tbody>\n",
       "</table>\n",
       "</div>"
      ],
      "text/plain": [
       "         job  marital    education  default housing loan    contact month  \\\n",
       "0  housemaid  married     basic.4y       no      no   no  telephone   may   \n",
       "1   services  married  high.school  unknown      no   no  telephone   may   \n",
       "2   services  married  high.school       no     yes   no  telephone   may   \n",
       "3     admin.  married     basic.6y       no      no   no  telephone   may   \n",
       "4   services  married  high.school       no      no  yes  telephone   may   \n",
       "\n",
       "  day_of_week     poutcome  \n",
       "0         mon  nonexistent  \n",
       "1         mon  nonexistent  \n",
       "2         mon  nonexistent  \n",
       "3         mon  nonexistent  \n",
       "4         mon  nonexistent  "
      ]
     },
     "execution_count": 55,
     "metadata": {},
     "output_type": "execute_result"
    }
   ],
   "source": [
    "categorical_columns = df.select_dtypes(exclude=np.number).columns.tolist()\n",
    "categorical_columns.remove('y')\n",
    "print('The categorical features are:')\n",
    "df[categorical_columns].head()"
   ]
  },
  {
   "cell_type": "markdown",
   "metadata": {},
   "source": [
    "## Check class distribution in the target variable <a name=\"class_distribution\"></a>"
   ]
  },
  {
   "cell_type": "code",
   "execution_count": 56,
   "metadata": {},
   "outputs": [
    {
     "name": "stdout",
     "output_type": "stream",
     "text": [
      "no     88.734583\n",
      "yes    11.265417\n",
      "Name: y, dtype: float64\n"
     ]
    }
   ],
   "source": [
    "class_distribution = (df['y'].value_counts()/df['y'].value_counts().sum())*100\n",
    "print(class_distribution)"
   ]
  },
  {
   "cell_type": "markdown",
   "metadata": {},
   "source": [
    "So the dataset is heavily imbalanced. Almost 89% of the clients from the telemarketing campaign records did not subscribe to long-term deposits."
   ]
  },
  {
   "cell_type": "markdown",
   "metadata": {},
   "source": [
    "# Data visualization <a name=\"data_viz\"></a>"
   ]
  },
  {
   "cell_type": "markdown",
   "metadata": {},
   "source": [
    "## Univariate analysis of categorical features <a name=\"univariate_categorical\"></a>"
   ]
  },
  {
   "cell_type": "markdown",
   "metadata": {},
   "source": [
    "Here, we will look at the distribution of unique values for each categorical feature in the dataset."
   ]
  },
  {
   "cell_type": "code",
   "execution_count": 57,
   "metadata": {},
   "outputs": [
    {
     "data": {
      "image/png": "[encoded data removed]",
      "text/plain": [
       "<Figure size 720x288 with 2 Axes>"
      ]
     },
     "metadata": {
      "needs_background": "light"
     },
     "output_type": "display_data"
    },
    {
     "data": {
      "image/png": "[encoded data removed]",
      "text/plain": [
       "<Figure size 720x288 with 2 Axes>"
      ]
     },
     "metadata": {
      "needs_background": "light"
     },
     "output_type": "display_data"
    },
    {
     "data": {
      "image/png": "[encoded data removed]",
      "text/plain": [
       "<Figure size 720x288 with 2 Axes>"
      ]
     },
     "metadata": {
      "needs_background": "light"
     },
     "output_type": "display_data"
    },
    {
     "data": {
      "image/png": "[encoded data removed]",
      "text/plain": [
       "<Figure size 720x288 with 2 Axes>"
      ]
     },
     "metadata": {
      "needs_background": "light"
     },
     "output_type": "display_data"
    },
    {
     "data": {
      "image/png": "[encoded data removed]",
      "text/plain": [
       "<Figure size 720x288 with 2 Axes>"
      ]
     },
     "metadata": {
      "needs_background": "light"
     },
     "output_type": "display_data"
    }
   ],
   "source": [
    "plt.rcParams['axes.axisbelow'] = True\n",
    "for i in range(0, len(categorical_columns), 2):\n",
    "    if i!=len(categorical_columns)-1:\n",
    "        plt.figure(figsize=(10,4))\n",
    "        plt.subplot(121)\n",
    "        df[categorical_columns[i]].value_counts(normalize=True).plot(kind='bar')\n",
    "        plt.title(categorical_columns[i])\n",
    "        plt.ylabel('Relative frequency')\n",
    "        plt.tight_layout()\n",
    "        plt.grid(True)\n",
    "        plt.subplot(122)\n",
    "        df[categorical_columns[i+1]].value_counts(normalize=True).plot(kind='bar')\n",
    "        plt.title(categorical_columns[i+1])\n",
    "        plt.ylabel('Relative frequency')\n",
    "        plt.tight_layout()\n",
    "        plt.grid(True)\n",
    "    else:\n",
    "        df[categorical_columns[i]].value_counts(normalize=True).plot(kind='bar')\n",
    "        plt.title(categorical_columns[i])\n",
    "        plt.ylabel('Relative frequency')"
   ]
  },
  {
   "cell_type": "markdown",
   "metadata": {},
   "source": [
    "## Observations: <a name=\"observations1\"></a>"
   ]
  },
  {
   "cell_type": "markdown",
   "metadata": {},
   "source": [
    "- Most of the clients have administrative, blue collar, technician or service jobs.\n",
    "- Almost 60% of the clients are married.\n",
    "- More than 50% of the clients hold high-school or university degrees. Almost none are illiterate.\n",
    "- 80% of the clients have not defaulted.\n",
    "- There is an almost even breakdown of people who have housing loans and people who do not, although almost 80% of the people do not have a personal loan.\n",
    "- More than 60% of the people were contacted via cellular phone.\n",
    "- Most of the calls were placed over the summer months (May - August).\n",
    "- Calls were evenly distributed from Monday to Friday.\n",
    "- More than 85% of the people were not contacted in the marketing campaign prior to when the data was collected."
   ]
  },
  {
   "cell_type": "markdown",
   "metadata": {},
   "source": [
    "## Bivariate analysis of categorical features <a name=\"bivariate_categorical\"></a>"
   ]
  },
  {
   "cell_type": "markdown",
   "metadata": {},
   "source": [
    "We plot each categorical feature against the target labels using a barchart."
   ]
  },
  {
   "cell_type": "code",
   "execution_count": 58,
   "metadata": {},
   "outputs": [
    {
     "data": {
      "image/png": "[encoded data removed]",
      "text/plain": [
       "<Figure size 720x288 with 2 Axes>"
      ]
     },
     "metadata": {
      "needs_background": "light"
     },
     "output_type": "display_data"
    },
    {
     "data": {
      "image/png": "[encoded data removed]",
      "text/plain": [
       "<Figure size 720x288 with 2 Axes>"
      ]
     },
     "metadata": {
      "needs_background": "light"
     },
     "output_type": "display_data"
    },
    {
     "data": {
      "image/png": "[encoded data removed]",
      "text/plain": [
       "<Figure size 720x288 with 2 Axes>"
      ]
     },
     "metadata": {
      "needs_background": "light"
     },
     "output_type": "display_data"
    },
    {
     "data": {
      "image/png": "[encoded data removed]",
      "text/plain": [
       "<Figure size 720x288 with 2 Axes>"
      ]
     },
     "metadata": {
      "needs_background": "light"
     },
     "output_type": "display_data"
    },
    {
     "data": {
      "image/png": "[encoded data removed]",
      "text/plain": [
       "<Figure size 720x288 with 2 Axes>"
      ]
     },
     "metadata": {
      "needs_background": "light"
     },
     "output_type": "display_data"
    }
   ],
   "source": [
    "%matplotlib inline\n",
    "for i in range(0, len(categorical_columns), 2):\n",
    "    if i!=len(categorical_columns)-1:\n",
    "        plt.figure(figsize=(10,4))\n",
    "        plt.subplot(121)\n",
    "        x,y = categorical_columns[i], 'y'\n",
    "        (df.groupby(x)[y].value_counts(normalize=True).mul(100).rename('Percent').reset_index().pipe((sns.barplot,'data'), x=x, y='Percent',hue=y))\n",
    "        plt.title(categorical_columns[i])\n",
    "        plt.xticks(rotation=90);\n",
    "        plt.subplot(122) \n",
    "        x,y = categorical_columns[i+1], 'y'\n",
    "        (df.groupby(x)[y].value_counts(normalize=True).mul(100).rename('Percent').reset_index().pipe((sns.barplot,'data'), x=x,y='Percent',hue=y))\n",
    "        plt.title(categorical_columns[i+1])\n",
    "        plt.xticks(rotation=90);\n",
    "        plt.tight_layout()\n",
    "    else:\n",
    "        x,y = categorical_columns[i], 'y'\n",
    "        (df.groupby(x)[y].value_counts(normalize=True).mul(100).rename('Percent').reset_index().pipe((sns.barplot,'data'), x=x,y='Percent',hue=y))\n",
    "        plt.title(categorical_columns[i])\n",
    "        plt.xticks(rotation=90);"
   ]
  },
  {
   "cell_type": "markdown",
   "metadata": {},
   "source": [
    "## Observations: <a name=\"observations2\"></a>"
   ]
  },
  {
   "cell_type": "markdown",
   "metadata": {},
   "source": [
    "- Retired people and students have a better chance of subscribing (around 30%).\n",
    "- Marital status does not seem to affect the target variable.\n",
    "- Illiterate people, closely followed by people with university degrees or professional courses have more chances of subscribing.\n",
    "- Everyone who subscribed has never defaulted, which is not surprising.\n",
    "- Having a housing or personal loan does not, by itself, affect whether a customer will subscribe or not.\n",
    "- Customers reached over cellular phone are more likely to subscribe.\n",
    "- Customers contacted in the months of March, September, October or December have a high conversion rate (almost 50%).\n",
    "- Day of week when a client is contacted does not seem to affect the target variable.\n",
    "- If the previous marketing campaign succeeded in having a client subscribe, chances are the current campaign will too."
   ]
  },
  {
   "cell_type": "markdown",
   "metadata": {},
   "source": [
    "## Univariate analysis of numerical features <a name=\"univariate_numerical\"></a>"
   ]
  },
  {
   "cell_type": "markdown",
   "metadata": {},
   "source": [
    "We will use histograms for plotting the distribution of each numerical feature."
   ]
  },
  {
   "cell_type": "code",
   "execution_count": 59,
   "metadata": {},
   "outputs": [
    {
     "data": {
      "image/png": "[encoded data removed]",
      "text/plain": [
       "<Figure size 720x288 with 2 Axes>"
      ]
     },
     "metadata": {
      "needs_background": "light"
     },
     "output_type": "display_data"
    },
    {
     "data": {
      "image/png": "[encoded data removed]",
      "text/plain": [
       "<Figure size 720x288 with 2 Axes>"
      ]
     },
     "metadata": {
      "needs_background": "light"
     },
     "output_type": "display_data"
    },
    {
     "data": {
      "image/png": "[encoded data removed]",
      "text/plain": [
       "<Figure size 720x288 with 2 Axes>"
      ]
     },
     "metadata": {
      "needs_background": "light"
     },
     "output_type": "display_data"
    },
    {
     "data": {
      "image/png": "[encoded data removed]",
      "text/plain": [
       "<Figure size 720x288 with 2 Axes>"
      ]
     },
     "metadata": {
      "needs_background": "light"
     },
     "output_type": "display_data"
    },
    {
     "data": {
      "image/png": "[encoded data removed]",
      "text/plain": [
       "<Figure size 720x288 with 2 Axes>"
      ]
     },
     "metadata": {
      "needs_background": "light"
     },
     "output_type": "display_data"
    }
   ],
   "source": [
    "for i in range(0, len(numerical_columns), 2):\n",
    "    if i!=len(numerical_columns)-1:\n",
    "        plt.figure(figsize=(10,4))\n",
    "        plt.subplot(121)\n",
    "        sns.distplot(df[numerical_columns[i]], kde=False, color='k')\n",
    "        plt.title(numerical_columns[i])\n",
    "        plt.grid(True)\n",
    "        plt.subplot(122)            \n",
    "        sns.distplot(df[numerical_columns[i+1]], kde=False, color='k')\n",
    "        plt.title(numerical_columns[i+1])\n",
    "        plt.tight_layout()\n",
    "        plt.grid(True)\n",
    "        plt.show()\n",
    "    else:\n",
    "        sns.distplot(df[numerical_columns[i]], kde=False, color='k')\n",
    "        plt.title(numerical_columns[i])\n",
    "        plt.grid(True)"
   ]
  },
  {
   "cell_type": "markdown",
   "metadata": {},
   "source": [
    "## Observations: <a name=\"observations3\"></a>"
   ]
  },
  {
   "cell_type": "markdown",
   "metadata": {},
   "source": [
    "- Most of the customers are between 30 and 40 years of age.\n",
    "- Most of the calls placed were 0-200 seconds in duration.\n",
    "- Most of the clients were contacted between 1-3 times in the current campaign.\n",
    "- Less than 5% of the clients were contacted in the previous campaign ('pdays'=999 means client was not previously contacted). So this feature has very little variance and is not informative at all.\n",
    "- Almost 88% of the clients were not contacted before this campaign. So the feature 'previous' also has very little variance and not much information."
   ]
  },
  {
   "cell_type": "markdown",
   "metadata": {},
   "source": [
    "So, we can safely drop 'pdays' and 'previous' features. Furthermore, if the goal is to have a realistic predictive model, we should also drop the 'duration' feature, because of the following 2 reasons:\n",
    "\n",
    "1. When we put the model in deployment, it is not possible for us to know the call duration for a client before the call has been placed. So if our aim is to build a model that can realistically predict if a client will subscribe, call duration should not be an input feature.\n",
    "2. If we do wait until the end of the call to know the call duration, we would also get to know the outcome of the call (success/failure),so there is no point in having a machine learning model to predict the outcome."
   ]
  },
  {
   "cell_type": "markdown",
   "metadata": {},
   "source": [
    "# Data preprocessing pipeline <a name=\"data_preprocessing\"></a>"
   ]
  },
  {
   "cell_type": "markdown",
   "metadata": {},
   "source": [
    "## Check for any missing data <a name=\"missing_data\"></a>"
   ]
  },
  {
   "cell_type": "code",
   "execution_count": 60,
   "metadata": {},
   "outputs": [
    {
     "name": "stdout",
     "output_type": "stream",
     "text": [
      "                Total  Percent\n",
      "age                 0      0.0\n",
      "job                 0      0.0\n",
      "marital             0      0.0\n",
      "education           0      0.0\n",
      "default             0      0.0\n",
      "housing             0      0.0\n",
      "loan                0      0.0\n",
      "contact             0      0.0\n",
      "month               0      0.0\n",
      "day_of_week         0      0.0\n",
      "duration            0      0.0\n",
      "campaign            0      0.0\n",
      "pdays               0      0.0\n",
      "previous            0      0.0\n",
      "poutcome            0      0.0\n",
      "emp.var.rate        0      0.0\n",
      "cons.price.idx      0      0.0\n",
      "cons.conf.idx       0      0.0\n",
      "euribor3m           0      0.0\n",
      "nr.employed         0      0.0\n",
      "y                   0      0.0\n"
     ]
    }
   ],
   "source": [
    "# Returns total number of missing values and percentage of missing values for each column in the dataframe\n",
    "def count_missing_values(dataframe):\n",
    "    \n",
    "    total = dataframe.isnull().sum()\n",
    "    percent = (dataframe.isnull().sum())/(len(dataframe))\n",
    "    missing_data = pd.concat([total, percent], axis=1, keys=['Total', 'Percent'])\n",
    "    \n",
    "    return missing_data\n",
    "\n",
    "missing_data = count_missing_values(df)\n",
    "print(missing_data)"
   ]
  },
  {
   "cell_type": "markdown",
   "metadata": {},
   "source": [
    "The dataset does not have any missing values in any of the columns. So we would not have to worry about dropping any rows or imputing the missing values."
   ]
  },
  {
   "cell_type": "markdown",
   "metadata": {},
   "source": [
    "## Drop duplicate rows <a name=\"drop_duplicates\"></a>"
   ]
  },
  {
   "cell_type": "code",
   "execution_count": 61,
   "metadata": {},
   "outputs": [
    {
     "name": "stdout",
     "output_type": "stream",
     "text": [
      "12 rows were dropped.\n"
     ]
    }
   ],
   "source": [
    "l0 = df.shape[0]\n",
    "df.drop_duplicates(inplace=True)\n",
    "l1 = df.shape[0]\n",
    "print(f'{l0-l1} rows were dropped.')"
   ]
  },
  {
   "cell_type": "markdown",
   "metadata": {},
   "source": [
    "## Preprocess categorical features <a name=\"preprocessing_categorical\"></a>"
   ]
  },
  {
   "cell_type": "markdown",
   "metadata": {},
   "source": [
    "### Impute unknown values from categorical columns <a name=\"impute_unknown\"></a>"
   ]
  },
  {
   "cell_type": "markdown",
   "metadata": {},
   "source": [
    "Values marked 'unknown' are present in a few categorical columns, including job, marital, education, default, housing and loan. None of these columns have more than 5% of their values marked 'unknown' though. We will impute these values with the mode (most frequently occurring element) of the corresponding categorical column."
   ]
  },
  {
   "cell_type": "code",
   "execution_count": 62,
   "metadata": {},
   "outputs": [
    {
     "data": {
      "text/html": [
       "<div>\n",
       "<style scoped>\n",
       "    .dataframe tbody tr th:only-of-type {\n",
       "        vertical-align: middle;\n",
       "    }\n",
       "\n",
       "    .dataframe tbody tr th {\n",
       "        vertical-align: top;\n",
       "    }\n",
       "\n",
       "    .dataframe thead th {\n",
       "        text-align: right;\n",
       "    }\n",
       "</style>\n",
       "<table border=\"1\" class=\"dataframe\">\n",
       "  <thead>\n",
       "    <tr style=\"text-align: right;\">\n",
       "      <th></th>\n",
       "      <th>age</th>\n",
       "      <th>job</th>\n",
       "      <th>marital</th>\n",
       "      <th>education</th>\n",
       "      <th>default</th>\n",
       "      <th>housing</th>\n",
       "      <th>loan</th>\n",
       "      <th>contact</th>\n",
       "      <th>month</th>\n",
       "      <th>day_of_week</th>\n",
       "      <th>...</th>\n",
       "      <th>campaign</th>\n",
       "      <th>pdays</th>\n",
       "      <th>previous</th>\n",
       "      <th>poutcome</th>\n",
       "      <th>emp.var.rate</th>\n",
       "      <th>cons.price.idx</th>\n",
       "      <th>cons.conf.idx</th>\n",
       "      <th>euribor3m</th>\n",
       "      <th>nr.employed</th>\n",
       "      <th>y</th>\n",
       "    </tr>\n",
       "  </thead>\n",
       "  <tbody>\n",
       "    <tr>\n",
       "      <th>0</th>\n",
       "      <td>56</td>\n",
       "      <td>housemaid</td>\n",
       "      <td>married</td>\n",
       "      <td>basic.4y</td>\n",
       "      <td>no</td>\n",
       "      <td>no</td>\n",
       "      <td>no</td>\n",
       "      <td>telephone</td>\n",
       "      <td>may</td>\n",
       "      <td>mon</td>\n",
       "      <td>...</td>\n",
       "      <td>1</td>\n",
       "      <td>999</td>\n",
       "      <td>0</td>\n",
       "      <td>nonexistent</td>\n",
       "      <td>1.1</td>\n",
       "      <td>93.994</td>\n",
       "      <td>-36.4</td>\n",
       "      <td>4.857</td>\n",
       "      <td>5191.0</td>\n",
       "      <td>no</td>\n",
       "    </tr>\n",
       "    <tr>\n",
       "      <th>1</th>\n",
       "      <td>57</td>\n",
       "      <td>services</td>\n",
       "      <td>married</td>\n",
       "      <td>high.school</td>\n",
       "      <td>no</td>\n",
       "      <td>no</td>\n",
       "      <td>no</td>\n",
       "      <td>telephone</td>\n",
       "      <td>may</td>\n",
       "      <td>mon</td>\n",
       "      <td>...</td>\n",
       "      <td>1</td>\n",
       "      <td>999</td>\n",
       "      <td>0</td>\n",
       "      <td>nonexistent</td>\n",
       "      <td>1.1</td>\n",
       "      <td>93.994</td>\n",
       "      <td>-36.4</td>\n",
       "      <td>4.857</td>\n",
       "      <td>5191.0</td>\n",
       "      <td>no</td>\n",
       "    </tr>\n",
       "    <tr>\n",
       "      <th>2</th>\n",
       "      <td>37</td>\n",
       "      <td>services</td>\n",
       "      <td>married</td>\n",
       "      <td>high.school</td>\n",
       "      <td>no</td>\n",
       "      <td>yes</td>\n",
       "      <td>no</td>\n",
       "      <td>telephone</td>\n",
       "      <td>may</td>\n",
       "      <td>mon</td>\n",
       "      <td>...</td>\n",
       "      <td>1</td>\n",
       "      <td>999</td>\n",
       "      <td>0</td>\n",
       "      <td>nonexistent</td>\n",
       "      <td>1.1</td>\n",
       "      <td>93.994</td>\n",
       "      <td>-36.4</td>\n",
       "      <td>4.857</td>\n",
       "      <td>5191.0</td>\n",
       "      <td>no</td>\n",
       "    </tr>\n",
       "    <tr>\n",
       "      <th>3</th>\n",
       "      <td>40</td>\n",
       "      <td>admin.</td>\n",
       "      <td>married</td>\n",
       "      <td>basic.6y</td>\n",
       "      <td>no</td>\n",
       "      <td>no</td>\n",
       "      <td>no</td>\n",
       "      <td>telephone</td>\n",
       "      <td>may</td>\n",
       "      <td>mon</td>\n",
       "      <td>...</td>\n",
       "      <td>1</td>\n",
       "      <td>999</td>\n",
       "      <td>0</td>\n",
       "      <td>nonexistent</td>\n",
       "      <td>1.1</td>\n",
       "      <td>93.994</td>\n",
       "      <td>-36.4</td>\n",
       "      <td>4.857</td>\n",
       "      <td>5191.0</td>\n",
       "      <td>no</td>\n",
       "    </tr>\n",
       "    <tr>\n",
       "      <th>4</th>\n",
       "      <td>56</td>\n",
       "      <td>services</td>\n",
       "      <td>married</td>\n",
       "      <td>high.school</td>\n",
       "      <td>no</td>\n",
       "      <td>no</td>\n",
       "      <td>yes</td>\n",
       "      <td>telephone</td>\n",
       "      <td>may</td>\n",
       "      <td>mon</td>\n",
       "      <td>...</td>\n",
       "      <td>1</td>\n",
       "      <td>999</td>\n",
       "      <td>0</td>\n",
       "      <td>nonexistent</td>\n",
       "      <td>1.1</td>\n",
       "      <td>93.994</td>\n",
       "      <td>-36.4</td>\n",
       "      <td>4.857</td>\n",
       "      <td>5191.0</td>\n",
       "      <td>no</td>\n",
       "    </tr>\n",
       "  </tbody>\n",
       "</table>\n",
       "<p>5 rows × 21 columns</p>\n",
       "</div>"
      ],
      "text/plain": [
       "   age        job  marital    education default housing loan    contact month  \\\n",
       "0   56  housemaid  married     basic.4y      no      no   no  telephone   may   \n",
       "1   57   services  married  high.school      no      no   no  telephone   may   \n",
       "2   37   services  married  high.school      no     yes   no  telephone   may   \n",
       "3   40     admin.  married     basic.6y      no      no   no  telephone   may   \n",
       "4   56   services  married  high.school      no      no  yes  telephone   may   \n",
       "\n",
       "  day_of_week  ...  campaign  pdays  previous     poutcome emp.var.rate  \\\n",
       "0         mon  ...         1    999         0  nonexistent          1.1   \n",
       "1         mon  ...         1    999         0  nonexistent          1.1   \n",
       "2         mon  ...         1    999         0  nonexistent          1.1   \n",
       "3         mon  ...         1    999         0  nonexistent          1.1   \n",
       "4         mon  ...         1    999         0  nonexistent          1.1   \n",
       "\n",
       "   cons.price.idx  cons.conf.idx  euribor3m  nr.employed   y  \n",
       "0          93.994          -36.4      4.857       5191.0  no  \n",
       "1          93.994          -36.4      4.857       5191.0  no  \n",
       "2          93.994          -36.4      4.857       5191.0  no  \n",
       "3          93.994          -36.4      4.857       5191.0  no  \n",
       "4          93.994          -36.4      4.857       5191.0  no  \n",
       "\n",
       "[5 rows x 21 columns]"
      ]
     },
     "execution_count": 62,
     "metadata": {},
     "output_type": "execute_result"
    }
   ],
   "source": [
    "for column in categorical_columns:\n",
    "    df[column] = df[column].str.replace('unknown', df[column].mode()[0])\n",
    "df.head()"
   ]
  },
  {
   "cell_type": "markdown",
   "metadata": {},
   "source": [
    "### Encode categorical variables and the target <a name=\"encoding_categorical\"></a>"
   ]
  },
  {
   "cell_type": "markdown",
   "metadata": {},
   "source": [
    "We have 10 categorical features, out of which 8 are nominal, i.e., their values do not have a sense of order. We can use one-hot encoding to encode these features.\n",
    "\n",
    "Two features, however, are ordinal in nature - month and day of week. But although there is a sense of ordering among their values (e.g. January is always followed by February and Monday by Tuesday), these features are also cyclic in nature, i.e., December is followed by January again and Sunday by Monday. Merely label encoding these two variables would not retain information about this cyclic nature. So for these two features, we use cyclic feature engineering, i.e., take the sine and cosine transformations of the label-encoded features, thereby preserving the cyclic nature of the variables.\n",
    "\n",
    "Finally, we also encode the target values ('yes' to 1 and 'no' to -1). Although this is not strictly necessary for training the machine learning models, they would make things easier for us when we calculate accuracy metrics."
   ]
  },
  {
   "cell_type": "markdown",
   "metadata": {},
   "source": [
    "**One-hot encoding of nominal categorical features** <a name=\"encoding_nominal\"></a>"
   ]
  },
  {
   "cell_type": "code",
   "execution_count": 63,
   "metadata": {},
   "outputs": [],
   "source": [
    "for column in categorical_columns:\n",
    "    if column not in set(('month', 'day_of_week')):\n",
    "        dummies = pd.get_dummies(df[column], prefix=column, drop_first=True)\n",
    "        df = pd.concat([df, dummies],axis=1)\n",
    "        df.drop(column, axis=1, inplace=True)"
   ]
  },
  {
   "cell_type": "code",
   "execution_count": 64,
   "metadata": {},
   "outputs": [
    {
     "data": {
      "text/plain": [
       "Index(['age', 'month', 'day_of_week', 'duration', 'campaign', 'pdays',\n",
       "       'previous', 'emp.var.rate', 'cons.price.idx', 'cons.conf.idx',\n",
       "       'euribor3m', 'nr.employed', 'y', 'job_blue-collar', 'job_entrepreneur',\n",
       "       'job_housemaid', 'job_management', 'job_retired', 'job_self-employed',\n",
       "       'job_services', 'job_student', 'job_technician', 'job_unemployed',\n",
       "       'marital_married', 'marital_single', 'education_basic.6y',\n",
       "       'education_basic.9y', 'education_high.school', 'education_illiterate',\n",
       "       'education_professional.course', 'education_university.degree',\n",
       "       'default_yes', 'housing_yes', 'loan_yes', 'contact_telephone',\n",
       "       'poutcome_nonexistent', 'poutcome_success'],\n",
       "      dtype='object')"
      ]
     },
     "execution_count": 64,
     "metadata": {},
     "output_type": "execute_result"
    }
   ],
   "source": [
    "df.columns"
   ]
  },
  {
   "cell_type": "markdown",
   "metadata": {},
   "source": [
    "**Encoding of cyclic ordinal features** <a name=\"encoding_ordinal\"></a>"
   ]
  },
  {
   "cell_type": "code",
   "execution_count": 65,
   "metadata": {},
   "outputs": [
    {
     "data": {
      "text/plain": [
       "array(['may', 'jun', 'jul', 'aug', 'oct', 'nov', 'dec', 'mar', 'apr',\n",
       "       'sep'], dtype=object)"
      ]
     },
     "execution_count": 65,
     "metadata": {},
     "output_type": "execute_result"
    }
   ],
   "source": [
    "df['month'].unique()"
   ]
  },
  {
   "cell_type": "code",
   "execution_count": 66,
   "metadata": {},
   "outputs": [
    {
     "data": {
      "text/plain": [
       "array(['mon', 'tue', 'wed', 'thu', 'fri'], dtype=object)"
      ]
     },
     "execution_count": 66,
     "metadata": {},
     "output_type": "execute_result"
    }
   ],
   "source": [
    "df['day_of_week'].unique()"
   ]
  },
  {
   "cell_type": "markdown",
   "metadata": {},
   "source": [
    "Not all months or days of the week are present here, so we first encode all 12 months into labels 1,...,12, and all days of the week into labels 1,...,7, using a dictionary. Then we compute the sine and cosine transformations of the label-encoded values. These are the x and y co-ordinates of the point on an unit circle, ensuring that the lowest value of each cyclic feature would appear right next to the its highest value."
   ]
  },
  {
   "cell_type": "code",
   "execution_count": 67,
   "metadata": {},
   "outputs": [],
   "source": [
    "month_dict = {'jan':1, 'feb':2, 'mar':3, 'apr':4, 'may':5, 'jun':6, 'jul':7, 'aug':8, 'sep':9, 'oct':10, 'nov':11, 'dec':12}\n",
    "df['month'] = df['month'].map(month_dict)\n",
    "df['month_cos'] = np.cos((df.month-1)*(2.*np.pi/12))\n",
    "df['month_sin'] = np.sin((df.month-1)*(2.*np.pi/12))"
   ]
  },
  {
   "cell_type": "code",
   "execution_count": 69,
   "metadata": {},
   "outputs": [],
   "source": [
    "day_dict = {'mon':1, 'tue':2, 'wed':3, 'thu':4, 'fri':5, 'sat':6, 'sun':7}\n",
    "df['day_of_week'] = df['day_of_week'].map(day_dict)\n",
    "df['day_cos'] = np.cos((df.day_of_week-1)*(2.*np.pi/7))\n",
    "df['day_sin'] = np.sin((df.day_of_week-1)*(2.*np.pi/7))"
   ]
  },
  {
   "cell_type": "code",
   "execution_count": 71,
   "metadata": {},
   "outputs": [],
   "source": [
    "# Drop the original month and day_of_week features\n",
    "df.drop(['month', 'day_of_week'], 1, inplace=True)"
   ]
  },
  {
   "cell_type": "code",
   "execution_count": 72,
   "metadata": {},
   "outputs": [],
   "source": [
    "# Encode target variable\n",
    "df['y'] = df['y'].map({'yes':1, 'no':-1})"
   ]
  },
  {
   "cell_type": "markdown",
   "metadata": {},
   "source": [
    "## Preprocess numerical features <a name=\"preprocessing_numerical\"></a>"
   ]
  },
  {
   "cell_type": "markdown",
   "metadata": {},
   "source": [
    "### Drop non-informative features <a name=\"drop_features\"></a>"
   ]
  },
  {
   "cell_type": "code",
   "execution_count": 73,
   "metadata": {},
   "outputs": [
    {
     "data": {
      "text/html": [
       "<div>\n",
       "<style scoped>\n",
       "    .dataframe tbody tr th:only-of-type {\n",
       "        vertical-align: middle;\n",
       "    }\n",
       "\n",
       "    .dataframe tbody tr th {\n",
       "        vertical-align: top;\n",
       "    }\n",
       "\n",
       "    .dataframe thead th {\n",
       "        text-align: right;\n",
       "    }\n",
       "</style>\n",
       "<table border=\"1\" class=\"dataframe\">\n",
       "  <thead>\n",
       "    <tr style=\"text-align: right;\">\n",
       "      <th></th>\n",
       "      <th>age</th>\n",
       "      <th>campaign</th>\n",
       "      <th>emp.var.rate</th>\n",
       "      <th>cons.price.idx</th>\n",
       "      <th>cons.conf.idx</th>\n",
       "      <th>euribor3m</th>\n",
       "      <th>nr.employed</th>\n",
       "      <th>y</th>\n",
       "      <th>job_blue-collar</th>\n",
       "      <th>job_entrepreneur</th>\n",
       "      <th>...</th>\n",
       "      <th>default_yes</th>\n",
       "      <th>housing_yes</th>\n",
       "      <th>loan_yes</th>\n",
       "      <th>contact_telephone</th>\n",
       "      <th>poutcome_nonexistent</th>\n",
       "      <th>poutcome_success</th>\n",
       "      <th>month_cos</th>\n",
       "      <th>month_sin</th>\n",
       "      <th>day_cos</th>\n",
       "      <th>day_sin</th>\n",
       "    </tr>\n",
       "  </thead>\n",
       "  <tbody>\n",
       "    <tr>\n",
       "      <th>0</th>\n",
       "      <td>56</td>\n",
       "      <td>1</td>\n",
       "      <td>1.1</td>\n",
       "      <td>93.994</td>\n",
       "      <td>-36.4</td>\n",
       "      <td>4.857</td>\n",
       "      <td>5191.0</td>\n",
       "      <td>-1</td>\n",
       "      <td>0</td>\n",
       "      <td>0</td>\n",
       "      <td>...</td>\n",
       "      <td>0</td>\n",
       "      <td>0</td>\n",
       "      <td>0</td>\n",
       "      <td>1</td>\n",
       "      <td>1</td>\n",
       "      <td>0</td>\n",
       "      <td>-0.5</td>\n",
       "      <td>0.866025</td>\n",
       "      <td>1.0</td>\n",
       "      <td>0.0</td>\n",
       "    </tr>\n",
       "    <tr>\n",
       "      <th>1</th>\n",
       "      <td>57</td>\n",
       "      <td>1</td>\n",
       "      <td>1.1</td>\n",
       "      <td>93.994</td>\n",
       "      <td>-36.4</td>\n",
       "      <td>4.857</td>\n",
       "      <td>5191.0</td>\n",
       "      <td>-1</td>\n",
       "      <td>0</td>\n",
       "      <td>0</td>\n",
       "      <td>...</td>\n",
       "      <td>0</td>\n",
       "      <td>0</td>\n",
       "      <td>0</td>\n",
       "      <td>1</td>\n",
       "      <td>1</td>\n",
       "      <td>0</td>\n",
       "      <td>-0.5</td>\n",
       "      <td>0.866025</td>\n",
       "      <td>1.0</td>\n",
       "      <td>0.0</td>\n",
       "    </tr>\n",
       "    <tr>\n",
       "      <th>2</th>\n",
       "      <td>37</td>\n",
       "      <td>1</td>\n",
       "      <td>1.1</td>\n",
       "      <td>93.994</td>\n",
       "      <td>-36.4</td>\n",
       "      <td>4.857</td>\n",
       "      <td>5191.0</td>\n",
       "      <td>-1</td>\n",
       "      <td>0</td>\n",
       "      <td>0</td>\n",
       "      <td>...</td>\n",
       "      <td>0</td>\n",
       "      <td>1</td>\n",
       "      <td>0</td>\n",
       "      <td>1</td>\n",
       "      <td>1</td>\n",
       "      <td>0</td>\n",
       "      <td>-0.5</td>\n",
       "      <td>0.866025</td>\n",
       "      <td>1.0</td>\n",
       "      <td>0.0</td>\n",
       "    </tr>\n",
       "    <tr>\n",
       "      <th>3</th>\n",
       "      <td>40</td>\n",
       "      <td>1</td>\n",
       "      <td>1.1</td>\n",
       "      <td>93.994</td>\n",
       "      <td>-36.4</td>\n",
       "      <td>4.857</td>\n",
       "      <td>5191.0</td>\n",
       "      <td>-1</td>\n",
       "      <td>0</td>\n",
       "      <td>0</td>\n",
       "      <td>...</td>\n",
       "      <td>0</td>\n",
       "      <td>0</td>\n",
       "      <td>0</td>\n",
       "      <td>1</td>\n",
       "      <td>1</td>\n",
       "      <td>0</td>\n",
       "      <td>-0.5</td>\n",
       "      <td>0.866025</td>\n",
       "      <td>1.0</td>\n",
       "      <td>0.0</td>\n",
       "    </tr>\n",
       "    <tr>\n",
       "      <th>4</th>\n",
       "      <td>56</td>\n",
       "      <td>1</td>\n",
       "      <td>1.1</td>\n",
       "      <td>93.994</td>\n",
       "      <td>-36.4</td>\n",
       "      <td>4.857</td>\n",
       "      <td>5191.0</td>\n",
       "      <td>-1</td>\n",
       "      <td>0</td>\n",
       "      <td>0</td>\n",
       "      <td>...</td>\n",
       "      <td>0</td>\n",
       "      <td>0</td>\n",
       "      <td>1</td>\n",
       "      <td>1</td>\n",
       "      <td>1</td>\n",
       "      <td>0</td>\n",
       "      <td>-0.5</td>\n",
       "      <td>0.866025</td>\n",
       "      <td>1.0</td>\n",
       "      <td>0.0</td>\n",
       "    </tr>\n",
       "  </tbody>\n",
       "</table>\n",
       "<p>5 rows × 36 columns</p>\n",
       "</div>"
      ],
      "text/plain": [
       "   age  campaign  emp.var.rate  cons.price.idx  cons.conf.idx  euribor3m  \\\n",
       "0   56         1           1.1          93.994          -36.4      4.857   \n",
       "1   57         1           1.1          93.994          -36.4      4.857   \n",
       "2   37         1           1.1          93.994          -36.4      4.857   \n",
       "3   40         1           1.1          93.994          -36.4      4.857   \n",
       "4   56         1           1.1          93.994          -36.4      4.857   \n",
       "\n",
       "   nr.employed  y  job_blue-collar  job_entrepreneur  ...  default_yes  \\\n",
       "0       5191.0 -1                0                 0  ...            0   \n",
       "1       5191.0 -1                0                 0  ...            0   \n",
       "2       5191.0 -1                0                 0  ...            0   \n",
       "3       5191.0 -1                0                 0  ...            0   \n",
       "4       5191.0 -1                0                 0  ...            0   \n",
       "\n",
       "   housing_yes  loan_yes  contact_telephone  poutcome_nonexistent  \\\n",
       "0            0         0                  1                     1   \n",
       "1            0         0                  1                     1   \n",
       "2            1         0                  1                     1   \n",
       "3            0         0                  1                     1   \n",
       "4            0         1                  1                     1   \n",
       "\n",
       "   poutcome_success  month_cos  month_sin  day_cos  day_sin  \n",
       "0                 0       -0.5   0.866025      1.0      0.0  \n",
       "1                 0       -0.5   0.866025      1.0      0.0  \n",
       "2                 0       -0.5   0.866025      1.0      0.0  \n",
       "3                 0       -0.5   0.866025      1.0      0.0  \n",
       "4                 0       -0.5   0.866025      1.0      0.0  \n",
       "\n",
       "[5 rows x 36 columns]"
      ]
     },
     "execution_count": 73,
     "metadata": {},
     "output_type": "execute_result"
    }
   ],
   "source": [
    "df.drop(['pdays', 'previous', 'duration'], 1, inplace=True)\n",
    "numerical_columns.remove('pdays')\n",
    "numerical_columns.remove('previous')\n",
    "numerical_columns.remove('duration')\n",
    "df.head()"
   ]
  },
  {
   "cell_type": "markdown",
   "metadata": {},
   "source": [
    "### Treat outliers in the numerical features <a name=\"treat_outliers\"></a>"
   ]
  },
  {
   "cell_type": "markdown",
   "metadata": {},
   "source": [
    "The histograms show some of the numerical features (particularly, 'age', 'campaign', etc.) have outliers. We can use **Winsorization** of the bottom 5% and top 5% of data points for example, which replaces all values below the 5th percentile with the value at 5th percentile and all values above 95th percentile with the value at 95th percentile."
   ]
  },
  {
   "cell_type": "code",
   "execution_count": 74,
   "metadata": {},
   "outputs": [
    {
     "name": "stdout",
     "output_type": "stream",
     "text": [
      "Before treating outliers:\n"
     ]
    },
    {
     "data": {
      "image/png": "[encoded data removed]",
      "text/plain": [
       "<Figure size 432x288 with 1 Axes>"
      ]
     },
     "metadata": {
      "needs_background": "light"
     },
     "output_type": "display_data"
    }
   ],
   "source": [
    "print('Before treating outliers:')\n",
    "sns.boxplot(df['age']);"
   ]
  },
  {
   "cell_type": "code",
   "execution_count": 75,
   "metadata": {},
   "outputs": [],
   "source": [
    "for column in numerical_columns:\n",
    "    df[column] = winsorize(df[column], limits=[0.05, 0.05])"
   ]
  },
  {
   "cell_type": "code",
   "execution_count": 76,
   "metadata": {},
   "outputs": [
    {
     "name": "stdout",
     "output_type": "stream",
     "text": [
      "After treating outliers:\n"
     ]
    },
    {
     "data": {
      "image/png": "[encoded data removed]",
      "text/plain": [
       "<Figure size 432x288 with 1 Axes>"
      ]
     },
     "metadata": {
      "needs_background": "light"
     },
     "output_type": "display_data"
    }
   ],
   "source": [
    "print('After treating outliers:')\n",
    "sns.boxplot(df['age']);"
   ]
  },
  {
   "cell_type": "markdown",
   "metadata": {},
   "source": [
    "## Split dataset into training and test sets <a name=\"split_dataset\"></a>"
   ]
  },
  {
   "cell_type": "code",
   "execution_count": 77,
   "metadata": {},
   "outputs": [],
   "source": [
    "train, test = train_test_split(df, test_size=0.2, random_state=42, stratify=df['y'])"
   ]
  },
  {
   "cell_type": "markdown",
   "metadata": {},
   "source": [
    "## Scale numerical features <a name=\"scale_numerical\"></a>"
   ]
  },
  {
   "cell_type": "code",
   "execution_count": 78,
   "metadata": {},
   "outputs": [],
   "source": [
    "scaler = preprocessing.StandardScaler().fit(train[numerical_columns])\n",
    "train[numerical_columns] = scaler.transform(train[numerical_columns])\n",
    "test[numerical_columns] = scaler.transform(test[numerical_columns])"
   ]
  },
  {
   "cell_type": "code",
   "execution_count": 79,
   "metadata": {},
   "outputs": [
    {
     "name": "stdout",
     "output_type": "stream",
     "text": [
      "The final number of features for each record is 35.\n"
     ]
    }
   ],
   "source": [
    "print(f'The final number of features for each record is {df.shape[1]-1}.')"
   ]
  },
  {
   "cell_type": "code",
   "execution_count": 81,
   "metadata": {},
   "outputs": [],
   "source": [
    "# Save processed training and test datasets for future reference\n",
    "train.to_csv(r'../data/processed-train-modify-v1.csv', index=False)\n",
    "test.to_csv(r'../data/processed-test-modify-v1.csv', index=False)"
   ]
  },
  {
   "cell_type": "code",
   "execution_count": 82,
   "metadata": {},
   "outputs": [
    {
     "name": "stdout",
     "output_type": "stream",
     "text": [
      "There are 32940 records in our training set and 8236 records in our test set.\n"
     ]
    }
   ],
   "source": [
    "print(f'There are {train.shape[0]} records in our training set and {test.shape[0]} records in our test set.')"
   ]
  },
  {
   "cell_type": "markdown",
   "metadata": {},
   "source": [
    "# Building machine learning models <a name=\"models\"></a>"
   ]
  },
  {
   "cell_type": "markdown",
   "metadata": {},
   "source": [
    "## Split data into features and labels <a name=\"split_data\"></a>"
   ]
  },
  {
   "cell_type": "code",
   "execution_count": 83,
   "metadata": {},
   "outputs": [],
   "source": [
    "# Predictors\n",
    "x_train = train.drop(['y'], 1)\n",
    "x_test = test.drop(['y'], 1)\n",
    "\n",
    "# Target values\n",
    "y_train = train['y']\n",
    "y_test = test['y']"
   ]
  },
  {
   "cell_type": "markdown",
   "metadata": {},
   "source": [
    "## Building classifiers using all features <a name=\"all_features\"></a>"
   ]
  },
  {
   "cell_type": "markdown",
   "metadata": {},
   "source": [
    "### Baseline algorithms <a name=\"baseline_algorithms\"></a>"
   ]
  },
  {
   "cell_type": "markdown",
   "metadata": {},
   "source": [
    "Let us run some baseline algorithms with default hyper-parameters on the training data to see how they perform. We will consider the following algorithms: **Logistic regression**, **k-Nearest neighbor**, **Decision tree**, **Random forest** and **XGBoost classifier**. For each algorithm, we will perform 5-fold cross-validation on the training set and store the mean classification accuracy and mean AUC-ROC (Area under ROC curve) along with the standard deviations. (I also tried Multi-layer perceptron and Support vector machine classifiers, but they took too long to converge and did not yield better results than the top two candidates from the present list. So not including them here)."
   ]
  },
  {
   "cell_type": "code",
   "execution_count": 84,
   "metadata": {},
   "outputs": [],
   "source": [
    "# Make a list of algorithms to implement\n",
    "models = []\n",
    "models.append(('Logistic regression', LogisticRegression(max_iter=500)))\n",
    "models.append(('k-Nearest neighbor', KNeighborsClassifier()))\n",
    "models.append(('Decision tree', DecisionTreeClassifier()))\n",
    "models.append(('Random forest', RandomForestClassifier()))\n",
    "models.append(('XGBoost classifier', XGBClassifier()))"
   ]
  },
  {
   "cell_type": "code",
   "execution_count": 85,
   "metadata": {},
   "outputs": [
    {
     "name": "stdout",
     "output_type": "stream",
     "text": [
      "Fitting Logistic regression model...\n",
      "Fitting k-Nearest neighbor model...\n",
      "Fitting Decision tree model...\n",
      "Fitting Random forest model...\n",
      "Fitting XGBoost classifier model...\n"
     ]
    },
    {
     "data": {
      "text/html": [
       "<div>\n",
       "<style scoped>\n",
       "    .dataframe tbody tr th:only-of-type {\n",
       "        vertical-align: middle;\n",
       "    }\n",
       "\n",
       "    .dataframe tbody tr th {\n",
       "        vertical-align: top;\n",
       "    }\n",
       "\n",
       "    .dataframe thead th {\n",
       "        text-align: right;\n",
       "    }\n",
       "</style>\n",
       "<table border=\"1\" class=\"dataframe\">\n",
       "  <thead>\n",
       "    <tr style=\"text-align: right;\">\n",
       "      <th></th>\n",
       "      <th>Algorithm</th>\n",
       "      <th>Mean ROC-AUC</th>\n",
       "      <th>S.D. AUC-ROC</th>\n",
       "      <th>Mean Accuracy</th>\n",
       "      <th>S.D. Accuracy</th>\n",
       "    </tr>\n",
       "  </thead>\n",
       "  <tbody>\n",
       "    <tr>\n",
       "      <th>4</th>\n",
       "      <td>XGBoost classifier</td>\n",
       "      <td>0.779626</td>\n",
       "      <td>0.005536</td>\n",
       "      <td>0.895598</td>\n",
       "      <td>0.000688</td>\n",
       "    </tr>\n",
       "    <tr>\n",
       "      <th>0</th>\n",
       "      <td>Logistic regression</td>\n",
       "      <td>0.778635</td>\n",
       "      <td>0.005143</td>\n",
       "      <td>0.899787</td>\n",
       "      <td>0.001498</td>\n",
       "    </tr>\n",
       "    <tr>\n",
       "      <th>3</th>\n",
       "      <td>Random forest</td>\n",
       "      <td>0.771839</td>\n",
       "      <td>0.007868</td>\n",
       "      <td>0.893291</td>\n",
       "      <td>0.001241</td>\n",
       "    </tr>\n",
       "    <tr>\n",
       "      <th>1</th>\n",
       "      <td>k-Nearest neighbor</td>\n",
       "      <td>0.721297</td>\n",
       "      <td>0.007490</td>\n",
       "      <td>0.889830</td>\n",
       "      <td>0.001848</td>\n",
       "    </tr>\n",
       "    <tr>\n",
       "      <th>2</th>\n",
       "      <td>Decision tree</td>\n",
       "      <td>0.625465</td>\n",
       "      <td>0.005754</td>\n",
       "      <td>0.838464</td>\n",
       "      <td>0.001282</td>\n",
       "    </tr>\n",
       "  </tbody>\n",
       "</table>\n",
       "</div>"
      ],
      "text/plain": [
       "             Algorithm  Mean ROC-AUC  S.D. AUC-ROC  Mean Accuracy  \\\n",
       "4   XGBoost classifier      0.779626      0.005536       0.895598   \n",
       "0  Logistic regression      0.778635      0.005143       0.899787   \n",
       "3        Random forest      0.771839      0.007868       0.893291   \n",
       "1   k-Nearest neighbor      0.721297      0.007490       0.889830   \n",
       "2        Decision tree      0.625465      0.005754       0.838464   \n",
       "\n",
       "   S.D. Accuracy  \n",
       "4       0.000688  \n",
       "0       0.001498  \n",
       "3       0.001241  \n",
       "1       0.001848  \n",
       "2       0.001282  "
      ]
     },
     "execution_count": 85,
     "metadata": {},
     "output_type": "execute_result"
    }
   ],
   "source": [
    "# Make a dataframe to store classification metrics\n",
    "col = ['Algorithm', 'Mean ROC-AUC', 'S.D. AUC-ROC', 'Mean Accuracy', 'S.D. Accuracy']\n",
    "df_results = pd.DataFrame(columns=col)\n",
    "auc_results = []\n",
    "acc_results = []\n",
    "i = 0\n",
    "\n",
    "# Fit the models one by one\n",
    "for name, model in models:\n",
    "    kfold = KFold(n_splits=5, shuffle=True, random_state=10)  # 5-fold cross-validation\n",
    "    cv_auc_results = cross_val_score(model, x_train, y_train, cv=5, scoring='roc_auc')\n",
    "    auc_results.append(cv_auc_results)\n",
    "    cv_acc_results = cross_val_score(model, x_train, y_train, cv=5, scoring='accuracy')\n",
    "    acc_results.append(cv_acc_results)\n",
    "    df_results.loc[i] = [name,\n",
    "                         cv_auc_results.mean(),\n",
    "                         cv_auc_results.std(),\n",
    "                         cv_acc_results.mean(),\n",
    "                         cv_acc_results.std()\n",
    "                         ]\n",
    "    i += 1\n",
    "    print(f'Fitting {name} model...')\n",
    "df_results.sort_values(by=['Mean ROC-AUC'], ascending=False)"
   ]
  },
  {
   "cell_type": "code",
   "execution_count": 86,
   "metadata": {},
   "outputs": [
    {
     "data": {
      "image/png": "[encoded data removed]",
      "text/plain": [
       "<Figure size 1080x504 with 1 Axes>"
      ]
     },
     "metadata": {
      "needs_background": "light"
     },
     "output_type": "display_data"
    }
   ],
   "source": [
    "fig = plt.figure(figsize=(15, 7))\n",
    "fig.suptitle('Comparison of ROC-AUC scores for different algorithms')\n",
    "ax = fig.add_subplot(111)\n",
    "plt.boxplot(auc_results)\n",
    "ax.set_xticklabels(df_results['Algorithm'])\n",
    "plt.show()"
   ]
  },
  {
   "cell_type": "markdown",
   "metadata": {},
   "source": [
    "So although the classification accuracies for all the models except decision tree are more or less similar, it is not the right indicator because of the class imbalance. Going by the ROC-AUC score, which quantifies a classifier's ability to differentiate between the classes, gradient boosting classifier and logistic regression are better baseline models."
   ]
  },
  {
   "cell_type": "markdown",
   "metadata": {},
   "source": [
    "### Grid search and hyper-parameter tuning <a name=\"grid_search\"></a>"
   ]
  },
  {
   "cell_type": "markdown",
   "metadata": {},
   "source": [
    "**Logistic regression** <a name=\"grid_logistic1\"></a>"
   ]
  },
  {
   "cell_type": "code",
   "execution_count": 87,
   "metadata": {},
   "outputs": [
    {
     "name": "stdout",
     "output_type": "stream",
     "text": [
      "Best Penalty: l2\n",
      "Best C: 1.0\n",
      "Best Class Weight: None\n"
     ]
    }
   ],
   "source": [
    "logistic = LogisticRegression(max_iter=1000)\n",
    "C = np.logspace(-2, 4, 10)\n",
    "class_weight = ['None', 'balanced']\n",
    "hyperparameters_logistic = dict(C=C, class_weight=class_weight)\n",
    "clf = GridSearchCV(logistic, hyperparameters_logistic, cv=5, verbose=0)\n",
    "best_logistic = clf.fit(x_train, y_train)\n",
    "print('Best Penalty:', best_logistic.best_estimator_.get_params()['penalty'])\n",
    "print('Best C:', best_logistic.best_estimator_.get_params()['C'])\n",
    "print('Best Class Weight:', best_logistic.best_estimator_.get_params()['class_weight'])"
   ]
  },
  {
   "cell_type": "code",
   "execution_count": 88,
   "metadata": {},
   "outputs": [
    {
     "name": "stdout",
     "output_type": "stream",
     "text": [
      "Best case ROC-AUC score on training data for logistic regression model is 0.7786\n"
     ]
    }
   ],
   "source": [
    "cv_auc_results = cross_val_score(best_logistic.best_estimator_, x_train, y_train, cv=5, scoring='roc_auc')\n",
    "best_logistic_rocauc_train = round(cv_auc_results.mean(), 4)\n",
    "print(f'Best case ROC-AUC score on training data for logistic regression model is {best_logistic_rocauc_train}')"
   ]
  },
  {
   "cell_type": "code",
   "execution_count": 89,
   "metadata": {},
   "outputs": [
    {
     "name": "stdout",
     "output_type": "stream",
     "text": [
      "Best case ROC-AUC score on test data for logistic regression model is 0.7902\n"
     ]
    }
   ],
   "source": [
    "y_test_pred = best_logistic.best_estimator_.predict_proba(x_test)\n",
    "best_logistic_rocauc_test = round(roc_auc_score(y_test, y_test_pred[:, 1]), 4)\n",
    "print(f'Best case ROC-AUC score on test data for logistic regression model is {best_logistic_rocauc_test}')"
   ]
  },
  {
   "cell_type": "markdown",
   "metadata": {},
   "source": [
    "**XGBoost classifier** <a name=\"grid_xgboost1\"></a>"
   ]
  },
  {
   "cell_type": "code",
   "execution_count": 90,
   "metadata": {},
   "outputs": [
    {
     "name": "stdout",
     "output_type": "stream",
     "text": [
      "Best learning rate: 0.01\n",
      "Best number of estimators: 500\n",
      "Best maximum depth: 6\n",
      "Best subsample: 0.5\n",
      "Best colsample by tree: 1\n"
     ]
    }
   ],
   "source": [
    "xgboost = XGBClassifier()\n",
    "learning_rate = [0.01, 0.05, 0.1]\n",
    "n_estimators = [100, 500, 1000]\n",
    "max_depth = [3, 6]\n",
    "subsample = [0.5, 0.1]\n",
    "colsample_bytree = [0.5, 1]\n",
    "hyperparameters_xgboost = dict(learning_rate=learning_rate, n_estimators=n_estimators, max_depth=max_depth, subsample=subsample, colsample_bytree=colsample_bytree)\n",
    "clf = GridSearchCV(xgboost, hyperparameters_xgboost, cv=5, verbose=0)\n",
    "best_xgboost = clf.fit(x_train, y_train)\n",
    "print('Best learning rate:', best_xgboost.best_estimator_.get_params()['learning_rate'])\n",
    "print('Best number of estimators:', best_xgboost.best_estimator_.get_params()['n_estimators'])\n",
    "print('Best maximum depth:', best_xgboost.best_estimator_.get_params()['max_depth'])\n",
    "print('Best subsample:', best_xgboost.best_estimator_.get_params()['subsample'])\n",
    "print('Best colsample by tree:', best_xgboost.best_estimator_.get_params()['colsample_bytree'])"
   ]
  },
  {
   "cell_type": "code",
   "execution_count": 91,
   "metadata": {},
   "outputs": [
    {
     "name": "stdout",
     "output_type": "stream",
     "text": [
      "Best case ROC-AUC score on training data for XGBoost classifier is 0.801\n"
     ]
    }
   ],
   "source": [
    "cv_auc_results = cross_val_score(best_xgboost.best_estimator_, x_train, y_train, cv=5, scoring='roc_auc')\n",
    "best_xgboost_rocauc_train = round(cv_auc_results.mean(), 4)\n",
    "print(f'Best case ROC-AUC score on training data for XGBoost classifier is {best_xgboost_rocauc_train}')"
   ]
  },
  {
   "cell_type": "code",
   "execution_count": 92,
   "metadata": {},
   "outputs": [
    {
     "name": "stdout",
     "output_type": "stream",
     "text": [
      "Best case ROC-AUC score on test data for XGBoost classifier is 0.8131\n"
     ]
    }
   ],
   "source": [
    "y_test_pred = best_xgboost.best_estimator_.predict_proba(x_test)\n",
    "best_xgboost_rocauc_test = round(roc_auc_score(y_test, y_test_pred[:, 1]), 4)\n",
    "print(f'Best case ROC-AUC score on test data for XGBoost classifier is {best_xgboost_rocauc_test}')"
   ]
  },
  {
   "cell_type": "markdown",
   "metadata": {},
   "source": [
    "## Building classifiers using a subset of features <a name=\"subset_features\"></a>"
   ]
  },
  {
   "cell_type": "markdown",
   "metadata": {},
   "source": [
    "### Feature selection using Recursive Feature Elimination <a name=\"rfe\"></a>"
   ]
  },
  {
   "cell_type": "markdown",
   "metadata": {},
   "source": [
    "Let us use RFE to select the top features using random forest classifier and see if using a subset of features can improve classification performance over the baseline for the two most promising candidate algorithms: logistic regression and XGBoost."
   ]
  },
  {
   "cell_type": "code",
   "execution_count": 102,
   "metadata": {},
   "outputs": [
    {
     "name": "stdout",
     "output_type": "stream",
     "text": [
      "The features selected by Recursive Feature Elimination are...\n",
      "age\n",
      "campaign\n",
      "cons.conf.idx\n",
      "euribor3m\n",
      "nr.employed\n",
      "marital_married\n",
      "education_university.degree\n",
      "housing_yes\n",
      "poutcome_success\n",
      "day_sin\n"
     ]
    }
   ],
   "source": [
    "estimator = RandomForestClassifier(random_state=1)\n",
    "selector = RFE(estimator, n_features_to_select=10, step=1)\n",
    "selector = selector.fit(x_train, y_train)\n",
    "subset_columns = x_train.columns[selector.support_]\n",
    "print('The features selected by Recursive Feature Elimination are...')\n",
    "for column in subset_columns:\n",
    "    print(column)"
   ]
  },
  {
   "cell_type": "markdown",
   "metadata": {},
   "source": [
    "### Baseline algorithms <a name=\"rfe_baseline\"></a>"
   ]
  },
  {
   "cell_type": "code",
   "execution_count": 103,
   "metadata": {},
   "outputs": [
    {
     "data": {
      "text/html": [
       "<div>\n",
       "<style scoped>\n",
       "    .dataframe tbody tr th:only-of-type {\n",
       "        vertical-align: middle;\n",
       "    }\n",
       "\n",
       "    .dataframe tbody tr th {\n",
       "        vertical-align: top;\n",
       "    }\n",
       "\n",
       "    .dataframe thead th {\n",
       "        text-align: right;\n",
       "    }\n",
       "</style>\n",
       "<table border=\"1\" class=\"dataframe\">\n",
       "  <thead>\n",
       "    <tr style=\"text-align: right;\">\n",
       "      <th></th>\n",
       "      <th>age</th>\n",
       "      <th>campaign</th>\n",
       "      <th>cons.conf.idx</th>\n",
       "      <th>euribor3m</th>\n",
       "      <th>nr.employed</th>\n",
       "      <th>marital_married</th>\n",
       "      <th>education_university.degree</th>\n",
       "      <th>housing_yes</th>\n",
       "      <th>poutcome_success</th>\n",
       "      <th>day_sin</th>\n",
       "    </tr>\n",
       "  </thead>\n",
       "  <tbody>\n",
       "    <tr>\n",
       "      <th>36454</th>\n",
       "      <td>-1.459752</td>\n",
       "      <td>-0.194960</td>\n",
       "      <td>-0.038829</td>\n",
       "      <td>-1.365439</td>\n",
       "      <td>-1.339174</td>\n",
       "      <td>0</td>\n",
       "      <td>0</td>\n",
       "      <td>0</td>\n",
       "      <td>0</td>\n",
       "      <td>0.781831</td>\n",
       "    </tr>\n",
       "    <tr>\n",
       "      <th>1233</th>\n",
       "      <td>-0.825202</td>\n",
       "      <td>-0.782785</td>\n",
       "      <td>1.011223</td>\n",
       "      <td>0.713119</td>\n",
       "      <td>0.328570</td>\n",
       "      <td>1</td>\n",
       "      <td>0</td>\n",
       "      <td>0</td>\n",
       "      <td>0</td>\n",
       "      <td>0.433884</td>\n",
       "    </tr>\n",
       "    <tr>\n",
       "      <th>24111</th>\n",
       "      <td>-0.719443</td>\n",
       "      <td>-0.782785</td>\n",
       "      <td>-0.325207</td>\n",
       "      <td>0.360232</td>\n",
       "      <td>0.398301</td>\n",
       "      <td>0</td>\n",
       "      <td>1</td>\n",
       "      <td>0</td>\n",
       "      <td>0</td>\n",
       "      <td>0.433884</td>\n",
       "    </tr>\n",
       "    <tr>\n",
       "      <th>15516</th>\n",
       "      <td>-0.190651</td>\n",
       "      <td>0.980690</td>\n",
       "      <td>-0.492261</td>\n",
       "      <td>0.772126</td>\n",
       "      <td>0.867536</td>\n",
       "      <td>1</td>\n",
       "      <td>0</td>\n",
       "      <td>0</td>\n",
       "      <td>0</td>\n",
       "      <td>-0.433884</td>\n",
       "    </tr>\n",
       "    <tr>\n",
       "      <th>17916</th>\n",
       "      <td>-0.084893</td>\n",
       "      <td>0.980690</td>\n",
       "      <td>-0.492261</td>\n",
       "      <td>0.774440</td>\n",
       "      <td>0.867536</td>\n",
       "      <td>1</td>\n",
       "      <td>0</td>\n",
       "      <td>1</td>\n",
       "      <td>0</td>\n",
       "      <td>0.781831</td>\n",
       "    </tr>\n",
       "  </tbody>\n",
       "</table>\n",
       "</div>"
      ],
      "text/plain": [
       "            age  campaign  cons.conf.idx  euribor3m  nr.employed  \\\n",
       "36454 -1.459752 -0.194960      -0.038829  -1.365439    -1.339174   \n",
       "1233  -0.825202 -0.782785       1.011223   0.713119     0.328570   \n",
       "24111 -0.719443 -0.782785      -0.325207   0.360232     0.398301   \n",
       "15516 -0.190651  0.980690      -0.492261   0.772126     0.867536   \n",
       "17916 -0.084893  0.980690      -0.492261   0.774440     0.867536   \n",
       "\n",
       "       marital_married  education_university.degree  housing_yes  \\\n",
       "36454                0                            0            0   \n",
       "1233                 1                            0            0   \n",
       "24111                0                            1            0   \n",
       "15516                1                            0            0   \n",
       "17916                1                            0            1   \n",
       "\n",
       "       poutcome_success   day_sin  \n",
       "36454                 0  0.781831  \n",
       "1233                  0  0.433884  \n",
       "24111                 0  0.433884  \n",
       "15516                 0 -0.433884  \n",
       "17916                 0  0.781831  "
      ]
     },
     "execution_count": 103,
     "metadata": {},
     "output_type": "execute_result"
    }
   ],
   "source": [
    "x_train_subset = x_train[subset_columns]\n",
    "x_test_subset = x_test[subset_columns]\n",
    "x_train_subset.head()"
   ]
  },
  {
   "cell_type": "code",
   "execution_count": 104,
   "metadata": {},
   "outputs": [
    {
     "name": "stdout",
     "output_type": "stream",
     "text": [
      "Fitting Logistic regression model...\n",
      "Fitting XGBoost classifier model...\n"
     ]
    },
    {
     "data": {
      "text/html": [
       "<div>\n",
       "<style scoped>\n",
       "    .dataframe tbody tr th:only-of-type {\n",
       "        vertical-align: middle;\n",
       "    }\n",
       "\n",
       "    .dataframe tbody tr th {\n",
       "        vertical-align: top;\n",
       "    }\n",
       "\n",
       "    .dataframe thead th {\n",
       "        text-align: right;\n",
       "    }\n",
       "</style>\n",
       "<table border=\"1\" class=\"dataframe\">\n",
       "  <thead>\n",
       "    <tr style=\"text-align: right;\">\n",
       "      <th></th>\n",
       "      <th>Algorithm</th>\n",
       "      <th>Mean ROC-AUC</th>\n",
       "      <th>S.D. AUC-ROC</th>\n",
       "      <th>Mean Accuracy</th>\n",
       "      <th>S.D. Accuracy</th>\n",
       "    </tr>\n",
       "  </thead>\n",
       "  <tbody>\n",
       "    <tr>\n",
       "      <th>1</th>\n",
       "      <td>XGBoost classifier</td>\n",
       "      <td>0.777973</td>\n",
       "      <td>0.008648</td>\n",
       "      <td>0.895932</td>\n",
       "      <td>0.002613</td>\n",
       "    </tr>\n",
       "    <tr>\n",
       "      <th>0</th>\n",
       "      <td>Logistic regression</td>\n",
       "      <td>0.755950</td>\n",
       "      <td>0.006706</td>\n",
       "      <td>0.899423</td>\n",
       "      <td>0.001105</td>\n",
       "    </tr>\n",
       "  </tbody>\n",
       "</table>\n",
       "</div>"
      ],
      "text/plain": [
       "             Algorithm  Mean ROC-AUC  S.D. AUC-ROC  Mean Accuracy  \\\n",
       "1   XGBoost classifier      0.777973      0.008648       0.895932   \n",
       "0  Logistic regression      0.755950      0.006706       0.899423   \n",
       "\n",
       "   S.D. Accuracy  \n",
       "1       0.002613  \n",
       "0       0.001105  "
      ]
     },
     "execution_count": 104,
     "metadata": {},
     "output_type": "execute_result"
    }
   ],
   "source": [
    "models = []\n",
    "models.append(('Logistic regression', LogisticRegression(max_iter=500)))\n",
    "models.append(('XGBoost classifier', XGBClassifier()))\n",
    "\n",
    "df_subset_results = pd.DataFrame(columns=col)\n",
    "auc_results = []\n",
    "acc_results = []\n",
    "i = 0\n",
    "\n",
    "for name, model in models:\n",
    "    kfold = KFold(n_splits=5, shuffle=True, random_state=10)  # 5-fold cross-validation\n",
    "    cv_auc_results = cross_val_score(model, x_train_subset, y_train, cv=5, scoring='roc_auc')\n",
    "    auc_results.append(cv_auc_results)\n",
    "    cv_acc_results = cross_val_score(model, x_train_subset, y_train, cv=5, scoring='accuracy')\n",
    "    acc_results.append(cv_acc_results)\n",
    "    df_subset_results.loc[i] = [name,\n",
    "                         cv_auc_results.mean(),\n",
    "                         cv_auc_results.std(),\n",
    "                         cv_acc_results.mean(),\n",
    "                         cv_acc_results.std()\n",
    "                         ]\n",
    "    i += 1\n",
    "    print(f'Fitting {name} model...')\n",
    "df_subset_results.sort_values(by=['Mean ROC-AUC'], ascending=False)"
   ]
  },
  {
   "cell_type": "markdown",
   "metadata": {},
   "source": [
    "The performance of both models deteriorate a little, but considering we are only taking 10 features out of 35, it's still pretty great! Let's see how the best model, XGBoost, performs with hyperparameter tuning."
   ]
  },
  {
   "cell_type": "markdown",
   "metadata": {},
   "source": [
    "### XGBoost Grid search using selected features <a name=\"rfe_xgboost\"></a>"
   ]
  },
  {
   "cell_type": "code",
   "execution_count": 105,
   "metadata": {},
   "outputs": [
    {
     "name": "stdout",
     "output_type": "stream",
     "text": [
      "Best learning rate: 0.01\n",
      "Best number of estimators: 500\n",
      "Best maximum depth: 6\n",
      "Best subsample: 0.5\n",
      "Best colsample by tree: 0.5\n"
     ]
    }
   ],
   "source": [
    "xgboost = XGBClassifier()\n",
    "clf = GridSearchCV(xgboost, hyperparameters_xgboost, cv=5, verbose=0)\n",
    "best_xgboost_subset = clf.fit(x_train_subset, y_train)\n",
    "print('Best learning rate:', best_xgboost_subset.best_estimator_.get_params()['learning_rate'])\n",
    "print('Best number of estimators:', best_xgboost_subset.best_estimator_.get_params()['n_estimators'])\n",
    "print('Best maximum depth:', best_xgboost_subset.best_estimator_.get_params()['max_depth'])\n",
    "print('Best subsample:', best_xgboost_subset.best_estimator_.get_params()['subsample'])\n",
    "print('Best colsample by tree:', best_xgboost_subset.best_estimator_.get_params()['colsample_bytree'])"
   ]
  },
  {
   "cell_type": "code",
   "execution_count": 106,
   "metadata": {},
   "outputs": [
    {
     "name": "stdout",
     "output_type": "stream",
     "text": [
      "Best case ROC-AUC score on training data for XGBoost classifier with 10 features is 0.7978\n"
     ]
    }
   ],
   "source": [
    "cv_auc_results = cross_val_score(best_xgboost_subset.best_estimator_, x_train_subset, y_train, cv=5, scoring='roc_auc')\n",
    "best_xgboost_rocauc_train_subset = round(cv_auc_results.mean(), 4)\n",
    "print(f'Best case ROC-AUC score on training data for XGBoost classifier with 10 features is {best_xgboost_rocauc_train_subset}')"
   ]
  },
  {
   "cell_type": "code",
   "execution_count": 107,
   "metadata": {},
   "outputs": [
    {
     "name": "stdout",
     "output_type": "stream",
     "text": [
      "Best case ROC-AUC score on test data for XGBoost classifier with 10 features is 0.8058\n"
     ]
    }
   ],
   "source": [
    "y_test_pred = best_xgboost_subset.best_estimator_.predict_proba(x_test_subset)\n",
    "best_xgboost_rocauc_test_subset = round(roc_auc_score(y_test, y_test_pred[:, 1]), 4)\n",
    "print(f'Best case ROC-AUC score on test data for XGBoost classifier with 10 features is {best_xgboost_rocauc_test_subset}')"
   ]
  },
  {
   "cell_type": "markdown",
   "metadata": {},
   "source": [
    "# Final results <a name=\"results\"></a>"
   ]
  },
  {
   "cell_type": "code",
   "execution_count": 108,
   "metadata": {},
   "outputs": [
    {
     "name": "stdout",
     "output_type": "stream",
     "text": [
      "The best results for the dataset are:\n",
      "     Model  Features Train ROC-AUC Test ROC-AUC\n",
      "0  XGBoost       All         0.801       0.8131\n",
      "1  XGBoost  Selected        0.7978       0.8058\n"
     ]
    }
   ],
   "source": [
    "df_results = pd.DataFrame(np.array([['XGBoost', 'All', best_xgboost_rocauc_train, best_xgboost_rocauc_test], ['XGBoost', 'Selected', best_xgboost_rocauc_train_subset, best_xgboost_rocauc_test_subset]]), columns=['Model', 'Features', 'Train ROC-AUC', 'Test ROC-AUC'])\n",
    "print('The best results for the dataset are:')\n",
    "print(df_results)"
   ]
  },
  {
   "cell_type": "code",
   "execution_count": null,
   "metadata": {},
   "outputs": [],
   "source": []
  }
 ],
 "metadata": {
  "kernelspec": {
   "display_name": "Python 3",
   "language": "python",
   "name": "python3"
  },
  "language_info": {
   "codemirror_mode": {
    "name": "ipython",
    "version": 3
   },
   "file_extension": ".py",
   "mimetype": "text/x-python",
   "name": "python",
   "nbconvert_exporter": "python",
   "pygments_lexer": "ipython3",
   "version": "3.7.2"
  }
 },
 "nbformat": 4,
 "nbformat_minor": 2
}
